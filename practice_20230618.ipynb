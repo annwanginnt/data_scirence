{
 "cells": [
  {
   "cell_type": "code",
   "execution_count": 2630,
   "metadata": {},
   "outputs": [],
   "source": [
    "import pandas as pd\n",
    "import numpy as np\n",
    "import seaborn as sns\n",
    "import matplotlib.pyplot as plt"
   ]
  },
  {
   "cell_type": "code",
   "execution_count": 2631,
   "metadata": {},
   "outputs": [],
   "source": [
    "df = pd.read_csv(r\"C:\\MY FILE\\MBAN 6110S-Data Science\\messy_data (2).csv\")"
   ]
  },
  {
   "attachments": {},
   "cell_type": "markdown",
   "metadata": {},
   "source": [
    "DataFrame non-indexing attributes"
   ]
  },
  {
   "cell_type": "code",
   "execution_count": 2690,
   "metadata": {},
   "outputs": [
    {
     "data": {
      "text/plain": [
       "380"
      ]
     },
     "execution_count": 2690,
     "metadata": {},
     "output_type": "execute_result"
    }
   ],
   "source": [
    "df8 = df.T      # transpose rows and cols\n",
    "df.axes  # list rows and cols indexes\n",
    "df.dtypes    # series column data types\n",
    "df.empty     # True for empty DataFrame\n",
    "df.ndim      # number of axes ( it is 2)\n",
    "df.shape     # (row-count, col-count)\n",
    "df.size     # row-count * col-count\n",
    "df.values   # get a numpy array for dt"
   ]
  },
  {
   "attachments": {},
   "cell_type": "markdown",
   "metadata": {},
   "source": [
    "DataFrame utility methods"
   ]
  },
  {
   "cell_type": "code",
   "execution_count": null,
   "metadata": {},
   "outputs": [],
   "source": [
    "df1 = df.copy()   # Copy  a DataFrame\n",
    "df2 = df.rank()     # rank each col( default)\n",
    "df3 = df.sort_values(by='col')\n",
    "df4 = df.sort_values(by = ['col1', 'col2'])\n",
    "df5 = df.sort_index()\n",
    "df6 = df.astype(dtype)  # data type conversion"
   ]
  },
  {
   "attachments": {},
   "cell_type": "markdown",
   "metadata": {},
   "source": [
    "Common Column-wide methods/attributes"
   ]
  },
  {
   "cell_type": "code",
   "execution_count": 2689,
   "metadata": {},
   "outputs": [
    {
     "data": {
      "text/plain": [
       "3"
      ]
     },
     "execution_count": 2689,
     "metadata": {},
     "output_type": "execute_result"
    }
   ],
   "source": [
    "value = df['Income'].dtype\n",
    "value = df['Income'].size   # dimension\n",
    "value = df['Income'].count()  # non-NA count\n",
    "value = df['Income'].sum()\n",
    "value = df['Income'].mean()\n",
    "value = df['Income'].max()\n",
    "value = df['Income'].min()\n",
    "value = df['Income'].median()\n",
    "value = df['Income'].prod()\n",
    "value = df['Income'].describe()\n",
    "value = df['Income'].value_counts()\n",
    "value = df['Income'].idxmin()    # find index lable for min/max values in column\n",
    "value = df['Income'].idxmax()"
   ]
  },
  {
   "attachments": {},
   "cell_type": "markdown",
   "metadata": {},
   "source": [
    "Common Column elemetn-wise methods"
   ]
  },
  {
   "cell_type": "code",
   "execution_count": null,
   "metadata": {},
   "outputs": [],
   "source": [
    "s = df['Income'].isnull()\n",
    "s = df['Income'].notnull() # not isnull()\n",
    "s = df['Income'].astype(float)\n",
    "s = df['Income'].abs()\n",
    "s = df['Income'].round(decimals=0)\n",
    "s = df['Income'].to_datetime()\n",
    "s = df['Income'].fillna(0)\n",
    "s = df['Income'].cumsum()\n",
    "s = df['Income'].cumprod()\n"
   ]
  },
  {
   "attachments": {},
   "cell_type": "markdown",
   "metadata": {},
   "source": [
    "Working with rows"
   ]
  },
  {
   "cell_type": "code",
   "execution_count": null,
   "metadata": {},
   "outputs": [],
   "source": [
    "df = df.reset_index()   # replace old with new, old index stored as a col in df\n",
    "df.rename(index = {'old': 'new'}, inplace=True)\n",
    "df = df.drop('row_lable')\n"
   ]
  },
  {
   "cell_type": "code",
   "execution_count": 2666,
   "metadata": {},
   "outputs": [
    {
     "name": "stdout",
     "output_type": "stream",
     "text": [
      "[3, 1, 2, 5, 2, 2, 1, 4, 3, 4, 5, 1, 5, 4, 4, 4, 5, 4, 5, 4, 3, 4, 5, 4, 2, 3, 1, 2, 2, 5, 2, 5, 1, 4, 5, 1, 2, 2, 1, 2, 1, 5, 5, 1, 5, 5, 3, 4, 2, 3, 5, 1, 5, 4, 5, 1, 4, 5, 4, 2, 2, 5, 5, 2, 2, 5, 4, 2, 2, 2, 3, 2, 1, 5, 5, 4, 2, 1, 4, 3, 4, 4, 2, 3, 4, 1, 1, 5, 3, 3, 5, 3, 2, 2, 5]\n"
     ]
    }
   ],
   "source": [
    "print(df['Quantity'].tolist())"
   ]
  },
  {
   "cell_type": "code",
   "execution_count": 2665,
   "metadata": {},
   "outputs": [
    {
     "data": {
      "text/html": [
       "<div>\n",
       "<style scoped>\n",
       "    .dataframe tbody tr th:only-of-type {\n",
       "        vertical-align: middle;\n",
       "    }\n",
       "\n",
       "    .dataframe tbody tr th {\n",
       "        vertical-align: top;\n",
       "    }\n",
       "\n",
       "    .dataframe thead th {\n",
       "        text-align: right;\n",
       "    }\n",
       "</style>\n",
       "<table border=\"1\" class=\"dataframe\">\n",
       "  <thead>\n",
       "    <tr style=\"text-align: right;\">\n",
       "      <th></th>\n",
       "      <th>Age</th>\n",
       "      <th>Income</th>\n",
       "      <th>Gender</th>\n",
       "      <th>Quantity</th>\n",
       "    </tr>\n",
       "  </thead>\n",
       "  <tbody>\n",
       "    <tr>\n",
       "      <th>0</th>\n",
       "      <td>56</td>\n",
       "      <td>59544.57663</td>\n",
       "      <td>Female</td>\n",
       "      <td>3</td>\n",
       "    </tr>\n",
       "    <tr>\n",
       "      <th>1</th>\n",
       "      <td>46</td>\n",
       "      <td>36399.18997</td>\n",
       "      <td>Female</td>\n",
       "      <td>1</td>\n",
       "    </tr>\n",
       "    <tr>\n",
       "      <th>2</th>\n",
       "      <td>32</td>\n",
       "      <td>57140.63881</td>\n",
       "      <td>Female</td>\n",
       "      <td>2</td>\n",
       "    </tr>\n",
       "    <tr>\n",
       "      <th>3</th>\n",
       "      <td>60</td>\n",
       "      <td>69554.91903</td>\n",
       "      <td>Male</td>\n",
       "      <td>5</td>\n",
       "    </tr>\n",
       "    <tr>\n",
       "      <th>4</th>\n",
       "      <td>25</td>\n",
       "      <td>53173.80518</td>\n",
       "      <td>Female</td>\n",
       "      <td>2</td>\n",
       "    </tr>\n",
       "    <tr>\n",
       "      <th>...</th>\n",
       "      <td>...</td>\n",
       "      <td>...</td>\n",
       "      <td>...</td>\n",
       "      <td>...</td>\n",
       "    </tr>\n",
       "    <tr>\n",
       "      <th>100</th>\n",
       "      <td>61</td>\n",
       "      <td>37341.55459</td>\n",
       "      <td>Male</td>\n",
       "      <td>5</td>\n",
       "    </tr>\n",
       "    <tr>\n",
       "      <th>101</th>\n",
       "      <td>55</td>\n",
       "      <td>35516.63492</td>\n",
       "      <td>Female</td>\n",
       "      <td>3</td>\n",
       "    </tr>\n",
       "    <tr>\n",
       "      <th>102</th>\n",
       "      <td>31</td>\n",
       "      <td>53254.05089</td>\n",
       "      <td>Male</td>\n",
       "      <td>2</td>\n",
       "    </tr>\n",
       "    <tr>\n",
       "      <th>103</th>\n",
       "      <td>21</td>\n",
       "      <td>NaN</td>\n",
       "      <td>Male</td>\n",
       "      <td>2</td>\n",
       "    </tr>\n",
       "    <tr>\n",
       "      <th>104</th>\n",
       "      <td>60</td>\n",
       "      <td>69554.91903</td>\n",
       "      <td>Male</td>\n",
       "      <td>5</td>\n",
       "    </tr>\n",
       "  </tbody>\n",
       "</table>\n",
       "<p>95 rows × 4 columns</p>\n",
       "</div>"
      ],
      "text/plain": [
       "     Age       Income  Gender  Quantity\n",
       "0     56  59544.57663  Female         3\n",
       "1     46  36399.18997  Female         1\n",
       "2     32  57140.63881  Female         2\n",
       "3     60  69554.91903    Male         5\n",
       "4     25  53173.80518  Female         2\n",
       "..   ...          ...     ...       ...\n",
       "100   61  37341.55459    Male         5\n",
       "101   55  35516.63492  Female         3\n",
       "102   31  53254.05089    Male         2\n",
       "103   21          NaN    Male         2\n",
       "104   60  69554.91903    Male         5\n",
       "\n",
       "[95 rows x 4 columns]"
      ]
     },
     "execution_count": 2665,
     "metadata": {},
     "output_type": "execute_result"
    }
   ],
   "source": [
    "df"
   ]
  },
  {
   "attachments": {},
   "cell_type": "markdown",
   "metadata": {},
   "source": [
    "HOW to  use 'inplace=True' correctly\n",
    "if you are assigning to a new DataFrame, then you do not need to use it. \n",
    "when you are not assigning to a new DataFrame, using the same DataFrame, you need use inplce=True to make this change permanenty in current dataframe"
   ]
  },
  {
   "cell_type": "code",
   "execution_count": 2633,
   "metadata": {},
   "outputs": [],
   "source": [
    "# drop columns\n",
    "df = df.drop('Product',axis=1)\n",
    "# or use\n",
    "# df.drop('Product', axis=1, inplace=True)"
   ]
  },
  {
   "cell_type": "code",
   "execution_count": 2634,
   "metadata": {},
   "outputs": [
    {
     "name": "stderr",
     "output_type": "stream",
     "text": [
      "C:\\Users\\mei88\\AppData\\Local\\Packages\\PythonSoftwareFoundation.Python.3.11_qbz5n2kfra8p0\\LocalCache\\local-packages\\Python311\\site-packages\\IPython\\core\\displayhook.py:281: UserWarning: Output cache limit (currently 1000 entries) hit.\n",
      "Flushing oldest 200 entries.\n",
      "  warn('Output cache limit (currently {sz} entries) hit.\\n'\n"
     ]
    },
    {
     "data": {
      "text/html": [
       "<div>\n",
       "<style scoped>\n",
       "    .dataframe tbody tr th:only-of-type {\n",
       "        vertical-align: middle;\n",
       "    }\n",
       "\n",
       "    .dataframe tbody tr th {\n",
       "        vertical-align: top;\n",
       "    }\n",
       "\n",
       "    .dataframe thead th {\n",
       "        text-align: right;\n",
       "    }\n",
       "</style>\n",
       "<table border=\"1\" class=\"dataframe\">\n",
       "  <thead>\n",
       "    <tr style=\"text-align: right;\">\n",
       "      <th></th>\n",
       "      <th>Age</th>\n",
       "      <th>Income</th>\n",
       "      <th>Gender</th>\n",
       "      <th>Quantity</th>\n",
       "    </tr>\n",
       "  </thead>\n",
       "  <tbody>\n",
       "    <tr>\n",
       "      <th>0</th>\n",
       "      <td>56</td>\n",
       "      <td>59544.57663</td>\n",
       "      <td>Female</td>\n",
       "      <td>3</td>\n",
       "    </tr>\n",
       "    <tr>\n",
       "      <th>1</th>\n",
       "      <td>46</td>\n",
       "      <td>36399.18997</td>\n",
       "      <td>Female</td>\n",
       "      <td>1</td>\n",
       "    </tr>\n",
       "    <tr>\n",
       "      <th>2</th>\n",
       "      <td>32</td>\n",
       "      <td>57140.63881</td>\n",
       "      <td>Female</td>\n",
       "      <td>2</td>\n",
       "    </tr>\n",
       "    <tr>\n",
       "      <th>3</th>\n",
       "      <td>60</td>\n",
       "      <td>69554.91903</td>\n",
       "      <td>Male</td>\n",
       "      <td>5</td>\n",
       "    </tr>\n",
       "    <tr>\n",
       "      <th>4</th>\n",
       "      <td>25</td>\n",
       "      <td>53173.80518</td>\n",
       "      <td>Female</td>\n",
       "      <td>2</td>\n",
       "    </tr>\n",
       "    <tr>\n",
       "      <th>...</th>\n",
       "      <td>...</td>\n",
       "      <td>...</td>\n",
       "      <td>...</td>\n",
       "      <td>...</td>\n",
       "    </tr>\n",
       "    <tr>\n",
       "      <th>100</th>\n",
       "      <td>61</td>\n",
       "      <td>37341.55459</td>\n",
       "      <td>Male</td>\n",
       "      <td>5</td>\n",
       "    </tr>\n",
       "    <tr>\n",
       "      <th>101</th>\n",
       "      <td>55</td>\n",
       "      <td>35516.63492</td>\n",
       "      <td>Female</td>\n",
       "      <td>3</td>\n",
       "    </tr>\n",
       "    <tr>\n",
       "      <th>102</th>\n",
       "      <td>31</td>\n",
       "      <td>53254.05089</td>\n",
       "      <td>Male</td>\n",
       "      <td>2</td>\n",
       "    </tr>\n",
       "    <tr>\n",
       "      <th>103</th>\n",
       "      <td>21</td>\n",
       "      <td>NaN</td>\n",
       "      <td>Male</td>\n",
       "      <td>2</td>\n",
       "    </tr>\n",
       "    <tr>\n",
       "      <th>104</th>\n",
       "      <td>60</td>\n",
       "      <td>69554.91903</td>\n",
       "      <td>Male</td>\n",
       "      <td>5</td>\n",
       "    </tr>\n",
       "  </tbody>\n",
       "</table>\n",
       "<p>105 rows × 4 columns</p>\n",
       "</div>"
      ],
      "text/plain": [
       "     Age       Income  Gender  Quantity\n",
       "0     56  59544.57663  Female         3\n",
       "1     46  36399.18997  Female         1\n",
       "2     32  57140.63881  Female         2\n",
       "3     60  69554.91903    Male         5\n",
       "4     25  53173.80518  Female         2\n",
       "..   ...          ...     ...       ...\n",
       "100   61  37341.55459    Male         5\n",
       "101   55  35516.63492  Female         3\n",
       "102   31  53254.05089    Male         2\n",
       "103   21          NaN    Male         2\n",
       "104   60  69554.91903    Male         5\n",
       "\n",
       "[105 rows x 4 columns]"
      ]
     },
     "execution_count": 2634,
     "metadata": {},
     "output_type": "execute_result"
    }
   ],
   "source": [
    "df"
   ]
  },
  {
   "cell_type": "code",
   "execution_count": 2635,
   "metadata": {},
   "outputs": [
    {
     "data": {
      "text/html": [
       "<div>\n",
       "<style scoped>\n",
       "    .dataframe tbody tr th:only-of-type {\n",
       "        vertical-align: middle;\n",
       "    }\n",
       "\n",
       "    .dataframe tbody tr th {\n",
       "        vertical-align: top;\n",
       "    }\n",
       "\n",
       "    .dataframe thead th {\n",
       "        text-align: right;\n",
       "    }\n",
       "</style>\n",
       "<table border=\"1\" class=\"dataframe\">\n",
       "  <thead>\n",
       "    <tr style=\"text-align: right;\">\n",
       "      <th></th>\n",
       "      <th>Age</th>\n",
       "      <th>Income</th>\n",
       "      <th>Gender</th>\n",
       "      <th>Quantity</th>\n",
       "    </tr>\n",
       "  </thead>\n",
       "  <tbody>\n",
       "    <tr>\n",
       "      <th>0</th>\n",
       "      <td>56</td>\n",
       "      <td>59544.57663</td>\n",
       "      <td>Female</td>\n",
       "      <td>3</td>\n",
       "    </tr>\n",
       "    <tr>\n",
       "      <th>1</th>\n",
       "      <td>46</td>\n",
       "      <td>36399.18997</td>\n",
       "      <td>Female</td>\n",
       "      <td>1</td>\n",
       "    </tr>\n",
       "    <tr>\n",
       "      <th>2</th>\n",
       "      <td>32</td>\n",
       "      <td>57140.63881</td>\n",
       "      <td>Female</td>\n",
       "      <td>2</td>\n",
       "    </tr>\n",
       "    <tr>\n",
       "      <th>3</th>\n",
       "      <td>60</td>\n",
       "      <td>69554.91903</td>\n",
       "      <td>Male</td>\n",
       "      <td>5</td>\n",
       "    </tr>\n",
       "    <tr>\n",
       "      <th>4</th>\n",
       "      <td>25</td>\n",
       "      <td>53173.80518</td>\n",
       "      <td>Female</td>\n",
       "      <td>2</td>\n",
       "    </tr>\n",
       "    <tr>\n",
       "      <th>...</th>\n",
       "      <td>...</td>\n",
       "      <td>...</td>\n",
       "      <td>...</td>\n",
       "      <td>...</td>\n",
       "    </tr>\n",
       "    <tr>\n",
       "      <th>100</th>\n",
       "      <td>61</td>\n",
       "      <td>37341.55459</td>\n",
       "      <td>Male</td>\n",
       "      <td>5</td>\n",
       "    </tr>\n",
       "    <tr>\n",
       "      <th>101</th>\n",
       "      <td>55</td>\n",
       "      <td>35516.63492</td>\n",
       "      <td>Female</td>\n",
       "      <td>3</td>\n",
       "    </tr>\n",
       "    <tr>\n",
       "      <th>102</th>\n",
       "      <td>31</td>\n",
       "      <td>53254.05089</td>\n",
       "      <td>Male</td>\n",
       "      <td>2</td>\n",
       "    </tr>\n",
       "    <tr>\n",
       "      <th>103</th>\n",
       "      <td>21</td>\n",
       "      <td>NaN</td>\n",
       "      <td>Male</td>\n",
       "      <td>2</td>\n",
       "    </tr>\n",
       "    <tr>\n",
       "      <th>104</th>\n",
       "      <td>60</td>\n",
       "      <td>69554.91903</td>\n",
       "      <td>Male</td>\n",
       "      <td>5</td>\n",
       "    </tr>\n",
       "  </tbody>\n",
       "</table>\n",
       "<p>105 rows × 4 columns</p>\n",
       "</div>"
      ],
      "text/plain": [
       "     Age       Income  Gender  Quantity\n",
       "0     56  59544.57663  Female         3\n",
       "1     46  36399.18997  Female         1\n",
       "2     32  57140.63881  Female         2\n",
       "3     60  69554.91903    Male         5\n",
       "4     25  53173.80518  Female         2\n",
       "..   ...          ...     ...       ...\n",
       "100   61  37341.55459    Male         5\n",
       "101   55  35516.63492  Female         3\n",
       "102   31  53254.05089    Male         2\n",
       "103   21          NaN    Male         2\n",
       "104   60  69554.91903    Male         5\n",
       "\n",
       "[105 rows x 4 columns]"
      ]
     },
     "execution_count": 2635,
     "metadata": {},
     "output_type": "execute_result"
    }
   ],
   "source": [
    "df"
   ]
  },
  {
   "cell_type": "code",
   "execution_count": 2636,
   "metadata": {},
   "outputs": [],
   "source": [
    "df.drop(df[df['Age'] > 80].index, inplace=True)"
   ]
  },
  {
   "cell_type": "code",
   "execution_count": 2637,
   "metadata": {},
   "outputs": [],
   "source": [
    "df.drop(df[df['Income'] > 70000].index, inplace=True)"
   ]
  },
  {
   "cell_type": "code",
   "execution_count": 2638,
   "metadata": {},
   "outputs": [],
   "source": [
    "df.drop(df[df['Income'] < 20000].index, inplace=True)"
   ]
  },
  {
   "cell_type": "code",
   "execution_count": 2639,
   "metadata": {},
   "outputs": [],
   "source": [
    "df.drop(df[df['Income'] == 0].index, inplace=True)"
   ]
  },
  {
   "cell_type": "code",
   "execution_count": 2640,
   "metadata": {},
   "outputs": [],
   "source": [
    "df['Gender'] = df['Gender'].astype(str)"
   ]
  },
  {
   "cell_type": "code",
   "execution_count": 2641,
   "metadata": {},
   "outputs": [
    {
     "name": "stdout",
     "output_type": "stream",
     "text": [
      "object\n"
     ]
    }
   ],
   "source": [
    "print(df['Gender'].dtypes)\n"
   ]
  },
  {
   "cell_type": "code",
   "execution_count": 2642,
   "metadata": {},
   "outputs": [
    {
     "name": "stdout",
     "output_type": "stream",
     "text": [
      "['Female' 'Male']\n"
     ]
    }
   ],
   "source": [
    "print(df['Gender'].unique())"
   ]
  },
  {
   "cell_type": "code",
   "execution_count": 2643,
   "metadata": {},
   "outputs": [],
   "source": [
    "df['Gender'] = df['Gender'].astype(str)"
   ]
  },
  {
   "cell_type": "code",
   "execution_count": 2644,
   "metadata": {},
   "outputs": [
    {
     "name": "stdout",
     "output_type": "stream",
     "text": [
      "object\n"
     ]
    }
   ],
   "source": [
    "print(df['Gender'].dtype)"
   ]
  },
  {
   "cell_type": "code",
   "execution_count": 2645,
   "metadata": {},
   "outputs": [
    {
     "name": "stdout",
     "output_type": "stream",
     "text": [
      "[<class 'str'>]\n"
     ]
    }
   ],
   "source": [
    "print(df['Gender'].apply(type).unique())\n"
   ]
  },
  {
   "cell_type": "code",
   "execution_count": 2646,
   "metadata": {},
   "outputs": [
    {
     "name": "stdout",
     "output_type": "stream",
     "text": [
      "object\n"
     ]
    }
   ],
   "source": [
    "print(df['Gender'].dtype)"
   ]
  },
  {
   "cell_type": "code",
   "execution_count": 2647,
   "metadata": {},
   "outputs": [
    {
     "name": "stdout",
     "output_type": "stream",
     "text": [
      "Age         95\n",
      "Income      84\n",
      "Gender      95\n",
      "Quantity    95\n",
      "dtype: int64\n"
     ]
    }
   ],
   "source": [
    "print(df.count())"
   ]
  },
  {
   "cell_type": "code",
   "execution_count": 2648,
   "metadata": {},
   "outputs": [
    {
     "name": "stdout",
     "output_type": "stream",
     "text": [
      "<class 'pandas.core.frame.DataFrame'>\n",
      "Index: 95 entries, 0 to 104\n",
      "Data columns (total 4 columns):\n",
      " #   Column    Non-Null Count  Dtype  \n",
      "---  ------    --------------  -----  \n",
      " 0   Age       95 non-null     int64  \n",
      " 1   Income    84 non-null     float64\n",
      " 2   Gender    95 non-null     object \n",
      " 3   Quantity  95 non-null     int64  \n",
      "dtypes: float64(1), int64(2), object(1)\n",
      "memory usage: 3.7+ KB\n"
     ]
    }
   ],
   "source": [
    "df.info()"
   ]
  },
  {
   "cell_type": "code",
   "execution_count": 2649,
   "metadata": {},
   "outputs": [
    {
     "data": {
      "text/plain": [
       "Age         95\n",
       "Income      95\n",
       "Gender      95\n",
       "Quantity    95\n",
       "dtype: int64"
      ]
     },
     "execution_count": 2649,
     "metadata": {},
     "output_type": "execute_result"
    }
   ],
   "source": [
    "df.isnull().count()"
   ]
  },
  {
   "cell_type": "code",
   "execution_count": 2650,
   "metadata": {},
   "outputs": [
    {
     "name": "stdout",
     "output_type": "stream",
     "text": [
      "95\n"
     ]
    }
   ],
   "source": [
    "print(df['Age'].count())"
   ]
  },
  {
   "cell_type": "code",
   "execution_count": 2651,
   "metadata": {},
   "outputs": [
    {
     "name": "stdout",
     "output_type": "stream",
     "text": [
      "64\n"
     ]
    }
   ],
   "source": [
    "print(df['Age'].max())"
   ]
  },
  {
   "cell_type": "code",
   "execution_count": 2652,
   "metadata": {},
   "outputs": [
    {
     "name": "stdout",
     "output_type": "stream",
     "text": [
      "41.02105263157895\n"
     ]
    }
   ],
   "source": [
    "print(df['Age'].mean())"
   ]
  },
  {
   "cell_type": "code",
   "execution_count": 2653,
   "metadata": {},
   "outputs": [
    {
     "data": {
      "text/plain": [
       "Index(['Age', 'Income', 'Gender', 'Quantity'], dtype='object')"
      ]
     },
     "execution_count": 2653,
     "metadata": {},
     "output_type": "execute_result"
    }
   ],
   "source": [
    "df.columns"
   ]
  },
  {
   "cell_type": "code",
   "execution_count": 2654,
   "metadata": {},
   "outputs": [
    {
     "name": "stdout",
     "output_type": "stream",
     "text": [
      "Gender\n"
     ]
    }
   ],
   "source": [
    "print(df.columns[2])"
   ]
  },
  {
   "cell_type": "code",
   "execution_count": 2655,
   "metadata": {},
   "outputs": [
    {
     "name": "stdout",
     "output_type": "stream",
     "text": [
      "104\n"
     ]
    }
   ],
   "source": [
    "print(df.index[-1])"
   ]
  },
  {
   "cell_type": "code",
   "execution_count": 2656,
   "metadata": {},
   "outputs": [
    {
     "name": "stdout",
     "output_type": "stream",
     "text": [
      "Index([  0,   1,   2,   3,   4,   5,   6,   7,   9,  10,  11,  12,  13,  14,\n",
      "        15,  16,  17,  18,  19,  20,  21,  22,  23,  25,  26,  27,  28,  31,\n",
      "        32,  33,  34,  35,  36,  37,  38,  39,  40,  41,  42,  43,  44,  45,\n",
      "        46,  47,  48,  50,  51,  52,  53,  54,  55,  56,  57,  58,  59,  60,\n",
      "        61,  62,  63,  64,  65,  66,  69,  70,  71,  72,  73,  74,  76,  77,\n",
      "        78,  79,  80,  81,  82,  83,  84,  85,  86,  87,  88,  89,  90,  91,\n",
      "        92,  93,  94,  95,  96,  97, 100, 101, 102, 103, 104],\n",
      "      dtype='int64')\n"
     ]
    }
   ],
   "source": [
    "print(df.index)"
   ]
  },
  {
   "cell_type": "code",
   "execution_count": 2657,
   "metadata": {},
   "outputs": [
    {
     "name": "stdout",
     "output_type": "stream",
     "text": [
      "[0, 1, 2, 3, 4, 5, 6, 7, 9, 10, 11, 12, 13, 14, 15, 16, 17, 18, 19, 20, 21, 22, 23, 25, 26, 27, 28, 31, 32, 33, 34, 35, 36, 37, 38, 39, 40, 41, 42, 43, 44, 45, 46, 47, 48, 50, 51, 52, 53, 54, 55, 56, 57, 58, 59, 60, 61, 62, 63, 64, 65, 66, 69, 70, 71, 72, 73, 74, 76, 77, 78, 79, 80, 81, 82, 83, 84, 85, 86, 87, 88, 89, 90, 91, 92, 93, 94, 95, 96, 97, 100, 101, 102, 103, 104]\n"
     ]
    }
   ],
   "source": [
    "print(df.index.tolist())"
   ]
  },
  {
   "cell_type": "code",
   "execution_count": 2658,
   "metadata": {},
   "outputs": [
    {
     "name": "stdout",
     "output_type": "stream",
     "text": [
      "[  0   1   2   3   4   5   6   7   9  10  11  12  13  14  15  16  17  18\n",
      "  19  20  21  22  23  25  26  27  28  31  32  33  34  35  36  37  38  39\n",
      "  40  41  42  43  44  45  46  47  48  50  51  52  53  54  55  56  57  58\n",
      "  59  60  61  62  63  64  65  66  69  70  71  72  73  74  76  77  78  79\n",
      "  80  81  82  83  84  85  86  87  88  89  90  91  92  93  94  95  96  97\n",
      " 100 101 102 103 104]\n"
     ]
    }
   ],
   "source": [
    "print(df.index.values)"
   ]
  },
  {
   "cell_type": "code",
   "execution_count": 2659,
   "metadata": {},
   "outputs": [
    {
     "data": {
      "text/plain": [
       "Index(['Age', 'Income', 'Gender', 'Quantity'], dtype='object')"
      ]
     },
     "execution_count": 2659,
     "metadata": {},
     "output_type": "execute_result"
    }
   ],
   "source": [
    "df.columns"
   ]
  },
  {
   "cell_type": "code",
   "execution_count": 2660,
   "metadata": {},
   "outputs": [
    {
     "name": "stdout",
     "output_type": "stream",
     "text": [
      "0      56\n",
      "1      46\n",
      "2      32\n",
      "3      60\n",
      "4      25\n",
      "       ..\n",
      "100    61\n",
      "101    55\n",
      "102    31\n",
      "103    21\n",
      "104    60\n",
      "Name: Age, Length: 95, dtype: int64\n"
     ]
    }
   ],
   "source": [
    "print(df['Age'])"
   ]
  },
  {
   "cell_type": "code",
   "execution_count": 2661,
   "metadata": {},
   "outputs": [
    {
     "name": "stdout",
     "output_type": "stream",
     "text": [
      "     Age\n",
      "0     56\n",
      "1     46\n",
      "2     32\n",
      "3     60\n",
      "4     25\n",
      "..   ...\n",
      "100   61\n",
      "101   55\n",
      "102   31\n",
      "103   21\n",
      "104   60\n",
      "\n",
      "[95 rows x 1 columns]\n"
     ]
    }
   ],
   "source": [
    "print(df[['Age']])"
   ]
  },
  {
   "cell_type": "code",
   "execution_count": 2662,
   "metadata": {},
   "outputs": [
    {
     "name": "stdout",
     "output_type": "stream",
     "text": [
      "Age    int64\n",
      "dtype: object\n"
     ]
    }
   ],
   "source": [
    "print(df[['Age']].dtypes)"
   ]
  },
  {
   "cell_type": "code",
   "execution_count": 2663,
   "metadata": {},
   "outputs": [
    {
     "data": {
      "text/plain": [
       "Index(['Age', 'Income', 'Gender', 'Quantity'], dtype='object')"
      ]
     },
     "execution_count": 2663,
     "metadata": {},
     "output_type": "execute_result"
    }
   ],
   "source": [
    "df.columns"
   ]
  },
  {
   "cell_type": "code",
   "execution_count": 2664,
   "metadata": {},
   "outputs": [
    {
     "ename": "KeyError",
     "evalue": "'Product'",
     "output_type": "error",
     "traceback": [
      "\u001b[1;31m---------------------------------------------------------------------------\u001b[0m",
      "\u001b[1;31mKeyError\u001b[0m                                  Traceback (most recent call last)",
      "File \u001b[1;32m~\\AppData\\Local\\Packages\\PythonSoftwareFoundation.Python.3.11_qbz5n2kfra8p0\\LocalCache\\local-packages\\Python311\\site-packages\\pandas\\core\\indexes\\base.py:3652\u001b[0m, in \u001b[0;36mIndex.get_loc\u001b[1;34m(self, key)\u001b[0m\n\u001b[0;32m   3651\u001b[0m \u001b[39mtry\u001b[39;00m:\n\u001b[1;32m-> 3652\u001b[0m     \u001b[39mreturn\u001b[39;00m \u001b[39mself\u001b[39;49m\u001b[39m.\u001b[39;49m_engine\u001b[39m.\u001b[39;49mget_loc(casted_key)\n\u001b[0;32m   3653\u001b[0m \u001b[39mexcept\u001b[39;00m \u001b[39mKeyError\u001b[39;00m \u001b[39mas\u001b[39;00m err:\n",
      "File \u001b[1;32m~\\AppData\\Local\\Packages\\PythonSoftwareFoundation.Python.3.11_qbz5n2kfra8p0\\LocalCache\\local-packages\\Python311\\site-packages\\pandas\\_libs\\index.pyx:147\u001b[0m, in \u001b[0;36mpandas._libs.index.IndexEngine.get_loc\u001b[1;34m()\u001b[0m\n",
      "File \u001b[1;32m~\\AppData\\Local\\Packages\\PythonSoftwareFoundation.Python.3.11_qbz5n2kfra8p0\\LocalCache\\local-packages\\Python311\\site-packages\\pandas\\_libs\\index.pyx:176\u001b[0m, in \u001b[0;36mpandas._libs.index.IndexEngine.get_loc\u001b[1;34m()\u001b[0m\n",
      "File \u001b[1;32mpandas\\_libs\\hashtable_class_helper.pxi:7080\u001b[0m, in \u001b[0;36mpandas._libs.hashtable.PyObjectHashTable.get_item\u001b[1;34m()\u001b[0m\n",
      "File \u001b[1;32mpandas\\_libs\\hashtable_class_helper.pxi:7088\u001b[0m, in \u001b[0;36mpandas._libs.hashtable.PyObjectHashTable.get_item\u001b[1;34m()\u001b[0m\n",
      "\u001b[1;31mKeyError\u001b[0m: 'Product'",
      "\nThe above exception was the direct cause of the following exception:\n",
      "\u001b[1;31mKeyError\u001b[0m                                  Traceback (most recent call last)",
      "Cell \u001b[1;32mIn[2664], line 1\u001b[0m\n\u001b[1;32m----> 1\u001b[0m df[\u001b[39m'\u001b[39;49m\u001b[39mProduct\u001b[39;49m\u001b[39m'\u001b[39;49m]\u001b[39m.\u001b[39munique()\n",
      "File \u001b[1;32m~\\AppData\\Local\\Packages\\PythonSoftwareFoundation.Python.3.11_qbz5n2kfra8p0\\LocalCache\\local-packages\\Python311\\site-packages\\pandas\\core\\frame.py:3761\u001b[0m, in \u001b[0;36mDataFrame.__getitem__\u001b[1;34m(self, key)\u001b[0m\n\u001b[0;32m   3759\u001b[0m \u001b[39mif\u001b[39;00m \u001b[39mself\u001b[39m\u001b[39m.\u001b[39mcolumns\u001b[39m.\u001b[39mnlevels \u001b[39m>\u001b[39m \u001b[39m1\u001b[39m:\n\u001b[0;32m   3760\u001b[0m     \u001b[39mreturn\u001b[39;00m \u001b[39mself\u001b[39m\u001b[39m.\u001b[39m_getitem_multilevel(key)\n\u001b[1;32m-> 3761\u001b[0m indexer \u001b[39m=\u001b[39m \u001b[39mself\u001b[39;49m\u001b[39m.\u001b[39;49mcolumns\u001b[39m.\u001b[39;49mget_loc(key)\n\u001b[0;32m   3762\u001b[0m \u001b[39mif\u001b[39;00m is_integer(indexer):\n\u001b[0;32m   3763\u001b[0m     indexer \u001b[39m=\u001b[39m [indexer]\n",
      "File \u001b[1;32m~\\AppData\\Local\\Packages\\PythonSoftwareFoundation.Python.3.11_qbz5n2kfra8p0\\LocalCache\\local-packages\\Python311\\site-packages\\pandas\\core\\indexes\\base.py:3654\u001b[0m, in \u001b[0;36mIndex.get_loc\u001b[1;34m(self, key)\u001b[0m\n\u001b[0;32m   3652\u001b[0m     \u001b[39mreturn\u001b[39;00m \u001b[39mself\u001b[39m\u001b[39m.\u001b[39m_engine\u001b[39m.\u001b[39mget_loc(casted_key)\n\u001b[0;32m   3653\u001b[0m \u001b[39mexcept\u001b[39;00m \u001b[39mKeyError\u001b[39;00m \u001b[39mas\u001b[39;00m err:\n\u001b[1;32m-> 3654\u001b[0m     \u001b[39mraise\u001b[39;00m \u001b[39mKeyError\u001b[39;00m(key) \u001b[39mfrom\u001b[39;00m \u001b[39merr\u001b[39;00m\n\u001b[0;32m   3655\u001b[0m \u001b[39mexcept\u001b[39;00m \u001b[39mTypeError\u001b[39;00m:\n\u001b[0;32m   3656\u001b[0m     \u001b[39m# If we have a listlike key, _check_indexing_error will raise\u001b[39;00m\n\u001b[0;32m   3657\u001b[0m     \u001b[39m#  InvalidIndexError. Otherwise we fall through and re-raise\u001b[39;00m\n\u001b[0;32m   3658\u001b[0m     \u001b[39m#  the TypeError.\u001b[39;00m\n\u001b[0;32m   3659\u001b[0m     \u001b[39mself\u001b[39m\u001b[39m.\u001b[39m_check_indexing_error(key)\n",
      "\u001b[1;31mKeyError\u001b[0m: 'Product'"
     ]
    }
   ],
   "source": [
    "df['Product'].unique()"
   ]
  },
  {
   "cell_type": "code",
   "execution_count": null,
   "metadata": {},
   "outputs": [
    {
     "data": {
      "text/plain": [
       "5"
      ]
     },
     "execution_count": 2601,
     "metadata": {},
     "output_type": "execute_result"
    }
   ],
   "source": [
    "df['Product'].isnull().sum()"
   ]
  },
  {
   "cell_type": "code",
   "execution_count": null,
   "metadata": {},
   "outputs": [],
   "source": [
    "df['Product'].fillna('Other', inplace=True)"
   ]
  },
  {
   "cell_type": "code",
   "execution_count": null,
   "metadata": {},
   "outputs": [
    {
     "data": {
      "text/plain": [
       "array(['D', 'Other', 'C', 'A', 'B'], dtype=object)"
      ]
     },
     "execution_count": 2603,
     "metadata": {},
     "output_type": "execute_result"
    }
   ],
   "source": [
    "df['Product'].unique()"
   ]
  },
  {
   "cell_type": "code",
   "execution_count": null,
   "metadata": {},
   "outputs": [
    {
     "data": {
      "text/html": [
       "<div>\n",
       "<style scoped>\n",
       "    .dataframe tbody tr th:only-of-type {\n",
       "        vertical-align: middle;\n",
       "    }\n",
       "\n",
       "    .dataframe tbody tr th {\n",
       "        vertical-align: top;\n",
       "    }\n",
       "\n",
       "    .dataframe thead th {\n",
       "        text-align: right;\n",
       "    }\n",
       "</style>\n",
       "<table border=\"1\" class=\"dataframe\">\n",
       "  <thead>\n",
       "    <tr style=\"text-align: right;\">\n",
       "      <th></th>\n",
       "      <th>Age</th>\n",
       "      <th>Income</th>\n",
       "      <th>Gender</th>\n",
       "      <th>Quantity</th>\n",
       "    </tr>\n",
       "    <tr>\n",
       "      <th>Product</th>\n",
       "      <th></th>\n",
       "      <th></th>\n",
       "      <th></th>\n",
       "      <th></th>\n",
       "    </tr>\n",
       "  </thead>\n",
       "  <tbody>\n",
       "    <tr>\n",
       "      <th>A</th>\n",
       "      <td>20</td>\n",
       "      <td>17</td>\n",
       "      <td>20</td>\n",
       "      <td>20</td>\n",
       "    </tr>\n",
       "    <tr>\n",
       "      <th>B</th>\n",
       "      <td>23</td>\n",
       "      <td>18</td>\n",
       "      <td>23</td>\n",
       "      <td>23</td>\n",
       "    </tr>\n",
       "    <tr>\n",
       "      <th>C</th>\n",
       "      <td>21</td>\n",
       "      <td>20</td>\n",
       "      <td>21</td>\n",
       "      <td>21</td>\n",
       "    </tr>\n",
       "    <tr>\n",
       "      <th>D</th>\n",
       "      <td>26</td>\n",
       "      <td>24</td>\n",
       "      <td>26</td>\n",
       "      <td>26</td>\n",
       "    </tr>\n",
       "    <tr>\n",
       "      <th>Other</th>\n",
       "      <td>5</td>\n",
       "      <td>5</td>\n",
       "      <td>5</td>\n",
       "      <td>5</td>\n",
       "    </tr>\n",
       "  </tbody>\n",
       "</table>\n",
       "</div>"
      ],
      "text/plain": [
       "         Age  Income  Gender  Quantity\n",
       "Product                               \n",
       "A         20      17      20        20\n",
       "B         23      18      23        23\n",
       "C         21      20      21        21\n",
       "D         26      24      26        26\n",
       "Other      5       5       5         5"
      ]
     },
     "execution_count": 2604,
     "metadata": {},
     "output_type": "execute_result"
    }
   ],
   "source": [
    "df.groupby(df['Product']).count()"
   ]
  },
  {
   "cell_type": "code",
   "execution_count": null,
   "metadata": {},
   "outputs": [
    {
     "data": {
      "text/plain": [
       "11"
      ]
     },
     "execution_count": 2605,
     "metadata": {},
     "output_type": "execute_result"
    }
   ],
   "source": [
    "df['Income'].isnull().sum()"
   ]
  },
  {
   "cell_type": "code",
   "execution_count": null,
   "metadata": {},
   "outputs": [],
   "source": [
    "df['Income'].fillna(0, inplace=True)"
   ]
  },
  {
   "cell_type": "code",
   "execution_count": null,
   "metadata": {},
   "outputs": [
    {
     "data": {
      "text/plain": [
       "0"
      ]
     },
     "execution_count": 2607,
     "metadata": {},
     "output_type": "execute_result"
    }
   ],
   "source": [
    "df['Income'].isnull().sum()"
   ]
  },
  {
   "cell_type": "code",
   "execution_count": null,
   "metadata": {},
   "outputs": [
    {
     "name": "stdout",
     "output_type": "stream",
     "text": [
      "<class 'pandas.core.frame.DataFrame'>\n",
      "Index: 95 entries, 0 to 104\n",
      "Data columns (total 5 columns):\n",
      " #   Column    Non-Null Count  Dtype  \n",
      "---  ------    --------------  -----  \n",
      " 0   Age       95 non-null     int64  \n",
      " 1   Income    95 non-null     float64\n",
      " 2   Gender    95 non-null     object \n",
      " 3   Product   95 non-null     object \n",
      " 4   Quantity  95 non-null     int64  \n",
      "dtypes: float64(1), int64(2), object(2)\n",
      "memory usage: 4.5+ KB\n"
     ]
    }
   ],
   "source": [
    "df.info()"
   ]
  },
  {
   "cell_type": "code",
   "execution_count": null,
   "metadata": {},
   "outputs": [
    {
     "data": {
      "text/plain": [
       "Product\n",
       "A        40496.313643\n",
       "B        36967.786710\n",
       "C        45777.581237\n",
       "D        43484.492482\n",
       "Other    47685.057048\n",
       "Name: Income, dtype: float64"
      ]
     },
     "execution_count": 2609,
     "metadata": {},
     "output_type": "execute_result"
    }
   ],
   "source": [
    "df.groupby('Product')['Income'].mean()"
   ]
  },
  {
   "cell_type": "code",
   "execution_count": null,
   "metadata": {},
   "outputs": [
    {
     "data": {
      "text/plain": [
       "Product\n",
       "A        41.000000\n",
       "B        37.652174\n",
       "C        40.714286\n",
       "D        43.461538\n",
       "Other    45.200000\n",
       "Name: Age, dtype: float64"
      ]
     },
     "execution_count": 2610,
     "metadata": {},
     "output_type": "execute_result"
    }
   ],
   "source": [
    "df.groupby('Product')['Age'].mean()"
   ]
  },
  {
   "cell_type": "code",
   "execution_count": null,
   "metadata": {},
   "outputs": [],
   "source": [
    "#calculate mean income grouped by age, this is a series\n",
    "age_income = df.groupby('Age')['Income'].mean()\n",
    "\n",
    "#create a new DataFram from the series\n",
    "age_income_df = pd.DataFrame(age_income).reset_index()"
   ]
  },
  {
   "cell_type": "code",
   "execution_count": null,
   "metadata": {},
   "outputs": [
    {
     "name": "stdout",
     "output_type": "stream",
     "text": [
      "<class 'pandas.core.frame.DataFrame'>\n",
      "RangeIndex: 40 entries, 0 to 39\n",
      "Data columns (total 2 columns):\n",
      " #   Column  Non-Null Count  Dtype  \n",
      "---  ------  --------------  -----  \n",
      " 0   Age     40 non-null     int64  \n",
      " 1   Income  40 non-null     float64\n",
      "dtypes: float64(1), int64(1)\n",
      "memory usage: 772.0 bytes\n"
     ]
    }
   ],
   "source": [
    "age_income_df.info()"
   ]
  },
  {
   "cell_type": "code",
   "execution_count": null,
   "metadata": {},
   "outputs": [
    {
     "data": {
      "text/plain": [
       "Age       0\n",
       "Income    0\n",
       "dtype: int64"
      ]
     },
     "execution_count": 2613,
     "metadata": {},
     "output_type": "execute_result"
    }
   ],
   "source": [
    "age_income_df.isnull().sum()"
   ]
  },
  {
   "cell_type": "code",
   "execution_count": null,
   "metadata": {},
   "outputs": [
    {
     "data": {
      "text/plain": [
       "Index(['Age', 'Income'], dtype='object')"
      ]
     },
     "execution_count": 2614,
     "metadata": {},
     "output_type": "execute_result"
    }
   ],
   "source": [
    "age_income_df.columns"
   ]
  },
  {
   "cell_type": "code",
   "execution_count": null,
   "metadata": {},
   "outputs": [
    {
     "data": {
      "text/plain": [
       "RangeIndex(start=0, stop=40, step=1)"
      ]
     },
     "execution_count": 2615,
     "metadata": {},
     "output_type": "execute_result"
    }
   ],
   "source": [
    "age_income_df.index"
   ]
  },
  {
   "cell_type": "code",
   "execution_count": null,
   "metadata": {},
   "outputs": [
    {
     "data": {
      "text/plain": [
       "[RangeIndex(start=0, stop=40, step=1),\n",
       " Index(['Age', 'Income'], dtype='object')]"
      ]
     },
     "execution_count": 2616,
     "metadata": {},
     "output_type": "execute_result"
    }
   ],
   "source": [
    "age_income_df.axes"
   ]
  },
  {
   "cell_type": "code",
   "execution_count": null,
   "metadata": {},
   "outputs": [
    {
     "data": {
      "text/html": [
       "<div>\n",
       "<style scoped>\n",
       "    .dataframe tbody tr th:only-of-type {\n",
       "        vertical-align: middle;\n",
       "    }\n",
       "\n",
       "    .dataframe tbody tr th {\n",
       "        vertical-align: top;\n",
       "    }\n",
       "\n",
       "    .dataframe thead th {\n",
       "        text-align: right;\n",
       "    }\n",
       "</style>\n",
       "<table border=\"1\" class=\"dataframe\">\n",
       "  <thead>\n",
       "    <tr style=\"text-align: right;\">\n",
       "      <th></th>\n",
       "      <th>Age</th>\n",
       "      <th>Income</th>\n",
       "    </tr>\n",
       "  </thead>\n",
       "  <tbody>\n",
       "    <tr>\n",
       "      <th>count</th>\n",
       "      <td>40.000000</td>\n",
       "      <td>40.000000</td>\n",
       "    </tr>\n",
       "    <tr>\n",
       "      <th>mean</th>\n",
       "      <td>40.800000</td>\n",
       "      <td>42605.733063</td>\n",
       "    </tr>\n",
       "    <tr>\n",
       "      <th>std</th>\n",
       "      <td>13.877116</td>\n",
       "      <td>12804.701500</td>\n",
       "    </tr>\n",
       "    <tr>\n",
       "      <th>min</th>\n",
       "      <td>18.000000</td>\n",
       "      <td>0.000000</td>\n",
       "    </tr>\n",
       "    <tr>\n",
       "      <th>25%</th>\n",
       "      <td>28.750000</td>\n",
       "      <td>37214.365877</td>\n",
       "    </tr>\n",
       "    <tr>\n",
       "      <th>50%</th>\n",
       "      <td>40.500000</td>\n",
       "      <td>46661.571226</td>\n",
       "    </tr>\n",
       "    <tr>\n",
       "      <th>75%</th>\n",
       "      <td>53.250000</td>\n",
       "      <td>48985.553210</td>\n",
       "    </tr>\n",
       "    <tr>\n",
       "      <th>max</th>\n",
       "      <td>64.000000</td>\n",
       "      <td>69554.919030</td>\n",
       "    </tr>\n",
       "  </tbody>\n",
       "</table>\n",
       "</div>"
      ],
      "text/plain": [
       "             Age        Income\n",
       "count  40.000000     40.000000\n",
       "mean   40.800000  42605.733063\n",
       "std    13.877116  12804.701500\n",
       "min    18.000000      0.000000\n",
       "25%    28.750000  37214.365877\n",
       "50%    40.500000  46661.571226\n",
       "75%    53.250000  48985.553210\n",
       "max    64.000000  69554.919030"
      ]
     },
     "execution_count": 2617,
     "metadata": {},
     "output_type": "execute_result"
    }
   ],
   "source": [
    "age_income_df.describe(include='all')"
   ]
  },
  {
   "cell_type": "code",
   "execution_count": null,
   "metadata": {},
   "outputs": [],
   "source": [
    "age_income_df = age_income_df.sort_values(by='Income', ascending=False)"
   ]
  },
  {
   "cell_type": "code",
   "execution_count": null,
   "metadata": {},
   "outputs": [
    {
     "data": {
      "text/plain": [
       "(array([-10000.,      0.,  10000.,  20000.,  30000.,  40000.,  50000.,\n",
       "         60000.,  70000.,  80000.]),\n",
       " [Text(-10000.0, 0, '−10000'),\n",
       "  Text(0.0, 0, '0'),\n",
       "  Text(10000.0, 0, '10000'),\n",
       "  Text(20000.0, 0, '20000'),\n",
       "  Text(30000.0, 0, '30000'),\n",
       "  Text(40000.0, 0, '40000'),\n",
       "  Text(50000.0, 0, '50000'),\n",
       "  Text(60000.0, 0, '60000'),\n",
       "  Text(70000.0, 0, '70000'),\n",
       "  Text(80000.0, 0, '80000')])"
      ]
     },
     "execution_count": 2619,
     "metadata": {},
     "output_type": "execute_result"
    },
    {
     "data": {
      "image/png": "[encoded data removed]",
      "text/plain": [
       "<Figure size 640x480 with 1 Axes>"
      ]
     },
     "metadata": {},
     "output_type": "display_data"
    }
   ],
   "source": [
    "sns.histplot(age_income_df['Income'])\n",
    "plt.title('Income Distribution')\n",
    "plt.xlabel('Income')\n",
    "plt.ylabel('counts')\n",
    "plt.xticks(rotation=45)\n"
   ]
  },
  {
   "cell_type": "code",
   "execution_count": null,
   "metadata": {},
   "outputs": [
    {
     "data": {
      "text/plain": [
       "(array([ 0,  1,  2,  3,  4,  5,  6,  7,  8,  9, 10, 11, 12, 13, 14, 15, 16,\n",
       "        17, 18, 19, 20, 21, 22, 23, 24, 25, 26, 27, 28, 29, 30, 31, 32, 33,\n",
       "        34, 35, 36, 37, 38, 39]),\n",
       " [Text(0, 0, '36'),\n",
       "  Text(1, 0, '12'),\n",
       "  Text(2, 0, '19'),\n",
       "  Text(3, 0, '38'),\n",
       "  Text(4, 0, '5'),\n",
       "  Text(5, 0, '22'),\n",
       "  Text(6, 0, '8'),\n",
       "  Text(7, 0, '6'),\n",
       "  Text(8, 0, '0'),\n",
       "  Text(9, 0, '33'),\n",
       "  Text(10, 0, '4'),\n",
       "  Text(11, 0, '9'),\n",
       "  Text(12, 0, '16'),\n",
       "  Text(13, 0, '23'),\n",
       "  Text(14, 0, '26'),\n",
       "  Text(15, 0, '25'),\n",
       "  Text(16, 0, '18'),\n",
       "  Text(17, 0, '21'),\n",
       "  Text(18, 0, '32'),\n",
       "  Text(19, 0, '1'),\n",
       "  Text(20, 0, '30'),\n",
       "  Text(21, 0, '34'),\n",
       "  Text(22, 0, '7'),\n",
       "  Text(23, 0, '39'),\n",
       "  Text(24, 0, '28'),\n",
       "  Text(25, 0, '37'),\n",
       "  Text(26, 0, '17'),\n",
       "  Text(27, 0, '27'),\n",
       "  Text(28, 0, '2'),\n",
       "  Text(29, 0, '14'),\n",
       "  Text(30, 0, '11'),\n",
       "  Text(31, 0, '31'),\n",
       "  Text(32, 0, '10'),\n",
       "  Text(33, 0, '20'),\n",
       "  Text(34, 0, '15'),\n",
       "  Text(35, 0, '24'),\n",
       "  Text(36, 0, '3'),\n",
       "  Text(37, 0, '29'),\n",
       "  Text(38, 0, '13'),\n",
       "  Text(39, 0, '35')])"
      ]
     },
     "execution_count": 2620,
     "metadata": {},
     "output_type": "execute_result"
    },
    {
     "data": {
      "image/png": "[encoded data removed]",
      "text/plain": [
       "<Figure size 640x480 with 1 Axes>"
      ]
     },
     "metadata": {},
     "output_type": "display_data"
    }
   ],
   "source": [
    "age_income_df.plot(kind='bar')\n",
    "plt.ylabel('Income')\n",
    "plt.xlabel('Age')\n",
    "plt.xticks(rotation=90)"
   ]
  },
  {
   "cell_type": "code",
   "execution_count": null,
   "metadata": {},
   "outputs": [
    {
     "data": {
      "text/plain": [
       "<Axes: xlabel='Age', ylabel='Income'>"
      ]
     },
     "execution_count": 2621,
     "metadata": {},
     "output_type": "execute_result"
    },
    {
     "data": {
      "image/png": "[encoded data removed]",
      "text/plain": [
       "<Figure size 640x480 with 1 Axes>"
      ]
     },
     "metadata": {},
     "output_type": "display_data"
    }
   ],
   "source": [
    "age_income_df.plot.scatter(x='Age', y='Income')"
   ]
  },
  {
   "cell_type": "code",
   "execution_count": null,
   "metadata": {},
   "outputs": [
    {
     "data": {
      "text/plain": [
       "<Axes: xlabel='Age', ylabel='Income'>"
      ]
     },
     "execution_count": 2622,
     "metadata": {},
     "output_type": "execute_result"
    },
    {
     "data": {
      "image/png": "[encoded data removed]",
      "text/plain": [
       "<Figure size 640x480 with 1 Axes>"
      ]
     },
     "metadata": {},
     "output_type": "display_data"
    }
   ],
   "source": [
    "sns.regplot(x='Age', y='Income', data = age_income_df)"
   ]
  },
  {
   "cell_type": "code",
   "execution_count": null,
   "metadata": {},
   "outputs": [
    {
     "data": {
      "text/plain": [
       "Text(0.5, 1.0, 'Age Distribution')"
      ]
     },
     "execution_count": 2623,
     "metadata": {},
     "output_type": "execute_result"
    },
    {
     "data": {
      "image/png": "[encoded data removed]",
      "text/plain": [
       "<Figure size 640x480 with 1 Axes>"
      ]
     },
     "metadata": {},
     "output_type": "display_data"
    }
   ],
   "source": [
    "# check age distribution\n",
    "sns.boxplot(age_income_df['Age'])\n",
    "plt.title('Age Distribution')\n"
   ]
  },
  {
   "cell_type": "code",
   "execution_count": null,
   "metadata": {},
   "outputs": [
    {
     "data": {
      "text/plain": [
       "Text(0.5, 1.0, 'Income Distribution')"
      ]
     },
     "execution_count": 2624,
     "metadata": {},
     "output_type": "execute_result"
    },
    {
     "data": {
      "image/png": "[encoded data removed]",
      "text/plain": [
       "<Figure size 640x480 with 1 Axes>"
      ]
     },
     "metadata": {},
     "output_type": "display_data"
    }
   ],
   "source": [
    "sns.boxplot(age_income_df['Income'])\n",
    "plt.title('Income Distribution')"
   ]
  },
  {
   "cell_type": "code",
   "execution_count": null,
   "metadata": {},
   "outputs": [],
   "source": [
    "#calculate mean income grouped by age, this is a series\n",
    "age_income = df.groupby('Age')['Income'].mean()\n",
    "\n",
    "#create a new DataFram from the series\n",
    "age_income_df = pd.DataFrame(age_income).reset_index()"
   ]
  },
  {
   "cell_type": "code",
   "execution_count": null,
   "metadata": {},
   "outputs": [],
   "source": [
    "age_income_df['Age_bin'] = pd.cut(age_income_df['Age'], bins =[0, 20, 40, 60, 80])"
   ]
  },
  {
   "cell_type": "code",
   "execution_count": null,
   "metadata": {},
   "outputs": [],
   "source": [
    "# Calculate mean income grouped by age_bin, this is a series\n",
    "age_bin_income = age_income_df.groupby('Age_bin')['Income'].mean()\n",
    "#create a new dataframe from the series\n",
    "age_bin_income_df = pd.DataFrame(age_bin_income).reset_index()"
   ]
  },
  {
   "cell_type": "code",
   "execution_count": null,
   "metadata": {},
   "outputs": [],
   "source": [
    "age_bin_income_df_sort = age_bin_income_df.sort_values(by = 'Income', ascending=False)"
   ]
  },
  {
   "cell_type": "code",
   "execution_count": null,
   "metadata": {},
   "outputs": [
    {
     "data": {
      "text/plain": [
       "Text(0.5, 1.0, 'Average Income by Age_group')"
      ]
     },
     "execution_count": 2629,
     "metadata": {},
     "output_type": "execute_result"
    },
    {
     "data": {
      "image/png": "[encoded data removed]",
      "text/plain": [
       "<Figure size 640x480 with 1 Axes>"
      ]
     },
     "metadata": {},
     "output_type": "display_data"
    }
   ],
   "source": [
    "age_bin_income_df_sort.plot(x='Age_bin', y='Income', kind='bar')\n",
    "plt.title('Average Income by Age_group')"
   ]
  },
  {
   "cell_type": "code",
   "execution_count": null,
   "metadata": {},
   "outputs": [],
   "source": []
  }
 ],
 "metadata": {
  "kernelspec": {
   "display_name": "Python 3",
   "language": "python",
   "name": "python3"
  },
  "language_info": {
   "codemirror_mode": {
    "name": "ipython",
    "version": 3
   },
   "file_extension": ".py",
   "mimetype": "text/x-python",
   "name": "python",
   "nbconvert_exporter": "python",
   "pygments_lexer": "ipython3",
   "version": "3.11.4"
  },
  "orig_nbformat": 4
 },
 "nbformat": 4,
 "nbformat_minor": 2
}
