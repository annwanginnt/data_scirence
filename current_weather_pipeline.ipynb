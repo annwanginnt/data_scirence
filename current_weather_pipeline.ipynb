{
 "cells": [
  {
   "cell_type": "code",
   "execution_count": 1,
   "metadata": {},
   "outputs": [],
   "source": [
    "import requests\n",
    "import pandas as pd\n",
    "\n",
    "API_KEY = \"c2a01c38b9e76ed81e4db3da978202a7\"\n",
    "CITY = \"Toronto\"  # e.g. \"Toronto\"\n",
    "URL = f\"https://api.openweathermap.org/data/2.5/weather?q={CITY}&appid={API_KEY}\"\n",
    "\n",
    "response = requests.get(URL)\n",
    "data = response.json()\n"
   ]
  },
  {
   "cell_type": "code",
   "execution_count": 2,
   "metadata": {},
   "outputs": [],
   "source": [
    "df = pd.DataFrame([data['main']])\n",
    "df['city'] = CITY\n",
    "df['date'] = pd.to_datetime(data['dt'], unit='s')\n"
   ]
  },
  {
   "cell_type": "code",
   "execution_count": 5,
   "metadata": {},
   "outputs": [
    {
     "name": "stdout",
     "output_type": "stream",
     "text": [
      "Collecting sqlalchemy\n",
      "  Obtaining dependency information for sqlalchemy from https://files.pythonhosted.org/packages/2d/eb/46ea0ba0db3a84b5971cc258f13ee4ac2b12ed8198823f8ba7a03ab00ead/SQLAlchemy-2.0.19-cp311-cp311-win_amd64.whl.metadata\n",
      "  Downloading SQLAlchemy-2.0.19-cp311-cp311-win_amd64.whl.metadata (9.7 kB)\n",
      "Collecting typing-extensions>=4.2.0 (from sqlalchemy)\n",
      "  Obtaining dependency information for typing-extensions>=4.2.0 from https://files.pythonhosted.org/packages/ec/6b/63cc3df74987c36fe26157ee12e09e8f9db4de771e0f3404263117e75b95/typing_extensions-4.7.1-py3-none-any.whl.metadata\n",
      "  Downloading typing_extensions-4.7.1-py3-none-any.whl.metadata (3.1 kB)\n",
      "Collecting greenlet!=0.4.17 (from sqlalchemy)\n",
      "  Downloading greenlet-2.0.2-cp311-cp311-win_amd64.whl (192 kB)\n",
      "     ---------------------------------------- 0.0/192.5 kB ? eta -:--:--\n",
      "     -------------------------------------- 192.5/192.5 kB 5.9 MB/s eta 0:00:00\n",
      "Downloading SQLAlchemy-2.0.19-cp311-cp311-win_amd64.whl (2.0 MB)\n",
      "   ---------------------------------------- 0.0/2.0 MB ? eta -:--:--\n",
      "   ------- -------------------------------- 0.4/2.0 MB 8.1 MB/s eta 0:00:01\n",
      "   ------------ --------------------------- 0.6/2.0 MB 6.8 MB/s eta 0:00:01\n",
      "   ---------------------- ----------------- 1.1/2.0 MB 7.8 MB/s eta 0:00:01\n",
      "   ------------------------------- -------- 1.5/2.0 MB 8.9 MB/s eta 0:00:01\n",
      "   ---------------------------------------  2.0/2.0 MB 9.0 MB/s eta 0:00:01\n",
      "   ---------------------------------------- 2.0/2.0 MB 8.5 MB/s eta 0:00:00\n",
      "Downloading typing_extensions-4.7.1-py3-none-any.whl (33 kB)\n",
      "Installing collected packages: typing-extensions, greenlet, sqlalchemy\n",
      "Successfully installed greenlet-2.0.2 sqlalchemy-2.0.19 typing-extensions-4.7.1\n",
      "Note: you may need to restart the kernel to use updated packages.\n"
     ]
    }
   ],
   "source": [
    "pip install sqlalchemy\n"
   ]
  }
 ],
 "metadata": {
  "kernelspec": {
   "display_name": "Python 3",
   "language": "python",
   "name": "python3"
  },
  "language_info": {
   "codemirror_mode": {
    "name": "ipython",
    "version": 3
   },
   "file_extension": ".py",
   "mimetype": "text/x-python",
   "name": "python",
   "nbconvert_exporter": "python",
   "pygments_lexer": "ipython3",
   "version": "3.11.4"
  },
  "orig_nbformat": 4
 },
 "nbformat": 4,
 "nbformat_minor": 2
}
