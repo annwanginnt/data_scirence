{
 "cells": [
  {
   "cell_type": "code",
   "execution_count": 24,
   "metadata": {},
   "outputs": [
    {
     "name": "stdout",
     "output_type": "stream",
     "text": [
      "Requirement already satisfied: scikit-learn in c:\\users\\mei88\\appdata\\local\\packages\\pythonsoftwarefoundation.python.3.11_qbz5n2kfra8p0\\localcache\\local-packages\\python311\\site-packages (1.2.2)\n",
      "Requirement already satisfied: numpy>=1.17.3 in c:\\users\\mei88\\appdata\\local\\packages\\pythonsoftwarefoundation.python.3.11_qbz5n2kfra8p0\\localcache\\local-packages\\python311\\site-packages (from scikit-learn) (1.24.3)\n",
      "Requirement already satisfied: scipy>=1.3.2 in c:\\users\\mei88\\appdata\\local\\packages\\pythonsoftwarefoundation.python.3.11_qbz5n2kfra8p0\\localcache\\local-packages\\python311\\site-packages (from scikit-learn) (1.10.1)\n",
      "Requirement already satisfied: joblib>=1.1.1 in c:\\users\\mei88\\appdata\\local\\packages\\pythonsoftwarefoundation.python.3.11_qbz5n2kfra8p0\\localcache\\local-packages\\python311\\site-packages (from scikit-learn) (1.2.0)\n",
      "Requirement already satisfied: threadpoolctl>=2.0.0 in c:\\users\\mei88\\appdata\\local\\packages\\pythonsoftwarefoundation.python.3.11_qbz5n2kfra8p0\\localcache\\local-packages\\python311\\site-packages (from scikit-learn) (3.1.0)\n",
      "Note: you may need to restart the kernel to use updated packages.\n"
     ]
    }
   ],
   "source": [
    "pip install scikit-learn"
   ]
  },
  {
   "cell_type": "code",
   "execution_count": 25,
   "metadata": {},
   "outputs": [],
   "source": [
    "import pandas as pd\n",
    "import numpy as np\n",
    "from sklearn.decomposition import PCA\n",
    "from sklearn.preprocessing import StandardScaler"
   ]
  },
  {
   "cell_type": "code",
   "execution_count": 26,
   "metadata": {},
   "outputs": [],
   "source": [
    "df = pd.read_csv(r\"C:\\MY FILE\\MBAN 6110S-Data Science\\module_5_feature_engineering_demo.csv\")"
   ]
  },
  {
   "cell_type": "code",
   "execution_count": 27,
   "metadata": {},
   "outputs": [
    {
     "data": {
      "text/html": [
       "<div>\n",
       "<style scoped>\n",
       "    .dataframe tbody tr th:only-of-type {\n",
       "        vertical-align: middle;\n",
       "    }\n",
       "\n",
       "    .dataframe tbody tr th {\n",
       "        vertical-align: top;\n",
       "    }\n",
       "\n",
       "    .dataframe thead th {\n",
       "        text-align: right;\n",
       "    }\n",
       "</style>\n",
       "<table border=\"1\" class=\"dataframe\">\n",
       "  <thead>\n",
       "    <tr style=\"text-align: right;\">\n",
       "      <th></th>\n",
       "      <th>Unnamed: 0</th>\n",
       "      <th>Height</th>\n",
       "      <th>Weight</th>\n",
       "      <th>Calories_Intake</th>\n",
       "      <th>Exercise_Time</th>\n",
       "      <th>BMI</th>\n",
       "      <th>Age</th>\n",
       "      <th>Resting_Heart_Rate</th>\n",
       "    </tr>\n",
       "  </thead>\n",
       "  <tbody>\n",
       "    <tr>\n",
       "      <th>0</th>\n",
       "      <td>0</td>\n",
       "      <td>187.640523</td>\n",
       "      <td>81.119254</td>\n",
       "      <td>1733.539473</td>\n",
       "      <td>4.593274</td>\n",
       "      <td>23.039374</td>\n",
       "      <td>70</td>\n",
       "      <td>54.540176</td>\n",
       "    </tr>\n",
       "    <tr>\n",
       "      <th>1</th>\n",
       "      <td>1</td>\n",
       "      <td>174.001572</td>\n",
       "      <td>87.849478</td>\n",
       "      <td>1644.014918</td>\n",
       "      <td>3.568722</td>\n",
       "      <td>29.015686</td>\n",
       "      <td>38</td>\n",
       "      <td>63.510746</td>\n",
       "    </tr>\n",
       "    <tr>\n",
       "      <th>2</th>\n",
       "      <td>2</td>\n",
       "      <td>179.787380</td>\n",
       "      <td>61.553704</td>\n",
       "      <td>2523.067529</td>\n",
       "      <td>2.885513</td>\n",
       "      <td>19.043018</td>\n",
       "      <td>76</td>\n",
       "      <td>49.502603</td>\n",
       "    </tr>\n",
       "    <tr>\n",
       "      <th>3</th>\n",
       "      <td>3</td>\n",
       "      <td>192.408932</td>\n",
       "      <td>72.094281</td>\n",
       "      <td>2020.812760</td>\n",
       "      <td>3.251630</td>\n",
       "      <td>19.473784</td>\n",
       "      <td>35</td>\n",
       "      <td>72.310220</td>\n",
       "    </tr>\n",
       "    <tr>\n",
       "      <th>4</th>\n",
       "      <td>4</td>\n",
       "      <td>188.675580</td>\n",
       "      <td>74.561067</td>\n",
       "      <td>2459.594194</td>\n",
       "      <td>1.789144</td>\n",
       "      <td>20.945017</td>\n",
       "      <td>49</td>\n",
       "      <td>67.864721</td>\n",
       "    </tr>\n",
       "  </tbody>\n",
       "</table>\n",
       "</div>"
      ],
      "text/plain": [
       "   Unnamed: 0      Height     Weight  Calories_Intake  Exercise_Time  \\\n",
       "0           0  187.640523  81.119254      1733.539473       4.593274   \n",
       "1           1  174.001572  87.849478      1644.014918       3.568722   \n",
       "2           2  179.787380  61.553704      2523.067529       2.885513   \n",
       "3           3  192.408932  72.094281      2020.812760       3.251630   \n",
       "4           4  188.675580  74.561067      2459.594194       1.789144   \n",
       "\n",
       "         BMI  Age  Resting_Heart_Rate  \n",
       "0  23.039374   70           54.540176  \n",
       "1  29.015686   38           63.510746  \n",
       "2  19.043018   76           49.502603  \n",
       "3  19.473784   35           72.310220  \n",
       "4  20.945017   49           67.864721  "
      ]
     },
     "execution_count": 27,
     "metadata": {},
     "output_type": "execute_result"
    }
   ],
   "source": [
    "df.head()\n"
   ]
  },
  {
   "cell_type": "code",
   "execution_count": 28,
   "metadata": {},
   "outputs": [
    {
     "data": {
      "text/plain": [
       "Index(['Unnamed: 0', 'Height', 'Weight', 'Calories_Intake', 'Exercise_Time',\n",
       "       'BMI', 'Age', 'Resting_Heart_Rate'],\n",
       "      dtype='object')"
      ]
     },
     "execution_count": 28,
     "metadata": {},
     "output_type": "execute_result"
    }
   ],
   "source": [
    "df.columns"
   ]
  },
  {
   "cell_type": "code",
   "execution_count": 29,
   "metadata": {},
   "outputs": [],
   "source": [
    "df.drop('Unnamed: 0', axis = 1, inplace=True)"
   ]
  },
  {
   "cell_type": "code",
   "execution_count": 48,
   "metadata": {},
   "outputs": [
    {
     "name": "stdout",
     "output_type": "stream",
     "text": [
      "Explained variance:  [0.28857346 0.18072185 0.14675488 0.14381463 0.13558216 0.10353415\n",
      " 0.00101888]\n",
      "Cumulative explained variance ratio:  [0.28857346 0.46929531 0.61605019 0.75986482 0.89544697 0.99898112\n",
      " 1.        ]\n"
     ]
    },
    {
     "data": {
      "text/html": [
       "<div>\n",
       "<style scoped>\n",
       "    .dataframe tbody tr th:only-of-type {\n",
       "        vertical-align: middle;\n",
       "    }\n",
       "\n",
       "    .dataframe tbody tr th {\n",
       "        vertical-align: top;\n",
       "    }\n",
       "\n",
       "    .dataframe thead th {\n",
       "        text-align: right;\n",
       "    }\n",
       "</style>\n",
       "<table border=\"1\" class=\"dataframe\">\n",
       "  <thead>\n",
       "    <tr style=\"text-align: right;\">\n",
       "      <th></th>\n",
       "      <th>PC1</th>\n",
       "      <th>PC2</th>\n",
       "      <th>PC3</th>\n",
       "      <th>PC4</th>\n",
       "      <th>PC5</th>\n",
       "      <th>PC6</th>\n",
       "      <th>PC7</th>\n",
       "    </tr>\n",
       "  </thead>\n",
       "  <tbody>\n",
       "    <tr>\n",
       "      <th>0</th>\n",
       "      <td>-0.395268</td>\n",
       "      <td>-1.182948</td>\n",
       "      <td>1.791319</td>\n",
       "      <td>2.336967</td>\n",
       "      <td>0.037477</td>\n",
       "      <td>0.366259</td>\n",
       "      <td>-0.018202</td>\n",
       "    </tr>\n",
       "    <tr>\n",
       "      <th>1</th>\n",
       "      <td>0.819082</td>\n",
       "      <td>-0.205962</td>\n",
       "      <td>2.084828</td>\n",
       "      <td>0.028116</td>\n",
       "      <td>-0.058311</td>\n",
       "      <td>0.446441</td>\n",
       "      <td>-0.061576</td>\n",
       "    </tr>\n",
       "    <tr>\n",
       "      <th>2</th>\n",
       "      <td>-1.171866</td>\n",
       "      <td>-0.469183</td>\n",
       "      <td>-0.324207</td>\n",
       "      <td>1.639464</td>\n",
       "      <td>-0.240676</td>\n",
       "      <td>-0.935364</td>\n",
       "      <td>0.040073</td>\n",
       "    </tr>\n",
       "    <tr>\n",
       "      <th>3</th>\n",
       "      <td>-1.106793</td>\n",
       "      <td>0.798769</td>\n",
       "      <td>2.060352</td>\n",
       "      <td>0.535101</td>\n",
       "      <td>1.421538</td>\n",
       "      <td>0.537776</td>\n",
       "      <td>0.082936</td>\n",
       "    </tr>\n",
       "    <tr>\n",
       "      <th>4</th>\n",
       "      <td>-0.772500</td>\n",
       "      <td>1.500282</td>\n",
       "      <td>0.797973</td>\n",
       "      <td>0.753864</td>\n",
       "      <td>1.115887</td>\n",
       "      <td>-0.730499</td>\n",
       "      <td>0.036682</td>\n",
       "    </tr>\n",
       "  </tbody>\n",
       "</table>\n",
       "</div>"
      ],
      "text/plain": [
       "        PC1       PC2       PC3       PC4       PC5       PC6       PC7\n",
       "0 -0.395268 -1.182948  1.791319  2.336967  0.037477  0.366259 -0.018202\n",
       "1  0.819082 -0.205962  2.084828  0.028116 -0.058311  0.446441 -0.061576\n",
       "2 -1.171866 -0.469183 -0.324207  1.639464 -0.240676 -0.935364  0.040073\n",
       "3 -1.106793  0.798769  2.060352  0.535101  1.421538  0.537776  0.082936\n",
       "4 -0.772500  1.500282  0.797973  0.753864  1.115887 -0.730499  0.036682"
      ]
     },
     "execution_count": 48,
     "metadata": {},
     "output_type": "execute_result"
    }
   ],
   "source": [
    "from sklearn.decomposition import PCA\n",
    "from sklearn.preprocessing import StandardScaler\n",
    "\n",
    "# standardize the feature 缩放器\n",
    "scaler = StandardScaler() # Z-score 标准化， 将特征值转换为0-1的分布，消除偏差\n",
    "df_std = scaler.fit_transform(df) #对df的数据 进行标准化处理\n",
    "       #  or scaler.fit(df)\n",
    "# Perform PCA\n",
    "pca = PCA() #    n_components默认为none, 表示保留所有的主成分\n",
    "df_pca = pca.fit_transform(df_std) # 转换后的数据与原始数据相同的维度\n",
    "\n",
    "\n",
    "# The transformed data is an array, convert it back to a dataframe\n",
    "df_pca = pd.DataFrame(df_pca, columns=[f'PC{i+1}' for i in range(len(df.columns))])\n",
    "\n",
    "# Print the explained variance ratio\n",
    "print('Explained variance: ', pca.explained_variance_ratio_)\n",
    "\n",
    "# print the cumulative explained variance ratio\n",
    "cumsum_variance = np.cumsum(pca.explained_variance_ratio_)\n",
    "print('Cumulative explained variance ratio: ', cumsum_variance)\n",
    "\n",
    "#show the first few rows of transfomed dataframe\n",
    "df_pca.head()\n",
    "\n",
    "\n"
   ]
  },
  {
   "cell_type": "code",
   "execution_count": 47,
   "metadata": {},
   "outputs": [
    {
     "name": "stdout",
     "output_type": "stream",
     "text": [
      "Explained variance ratio:  [0.28857346 0.18072185]\n",
      "Cumulative explained variance ratio:  [0.28857346 0.46929531]\n"
     ]
    }
   ],
   "source": [
    "# let's do the same, but now reduce to 2 components \n",
    "# perform PCA\n",
    "pca = PCA(n_components=2)\n",
    "df_pca = pca.fit_transform(df_std)\n",
    "\n",
    "# The transormed data is an array, convert it back into a dataframe \n",
    "df_pca = pd.DataFrame(df_pca)\n",
    "\n",
    "# Print the explained variance ration\n",
    "print('Explained variance ratio: ', pca.explained_variance_ratio_)\n",
    "\n",
    "# Print the cumulative explained variance ratio \n",
    "cumsum_variance = np.cumsum(pca.explained_variance_ratio_)\n",
    "print('Cumulative explained variance ratio: ', cumsum_variance)"
   ]
  },
  {
   "attachments": {},
   "cell_type": "markdown",
   "metadata": {},
   "source": [
    "we can see that with 2 components, only 46% of the variability in data is explained. "
   ]
  },
  {
   "cell_type": "code",
   "execution_count": 49,
   "metadata": {},
   "outputs": [],
   "source": [
    "df2 = pd.read_csv(r\"C:\\MY FILE\\MBAN 6110S-Data Science\\bikes_sharing.csv\")"
   ]
  },
  {
   "cell_type": "code",
   "execution_count": 51,
   "metadata": {},
   "outputs": [
    {
     "name": "stdout",
     "output_type": "stream",
     "text": [
      "<class 'pandas.core.frame.DataFrame'>\n",
      "RangeIndex: 10886 entries, 0 to 10885\n",
      "Data columns (total 12 columns):\n",
      " #   Column      Non-Null Count  Dtype  \n",
      "---  ------      --------------  -----  \n",
      " 0   datetime    10886 non-null  object \n",
      " 1   season      10886 non-null  int64  \n",
      " 2   holiday     10886 non-null  int64  \n",
      " 3   workingday  10886 non-null  int64  \n",
      " 4   weather     10886 non-null  int64  \n",
      " 5   temp        10886 non-null  float64\n",
      " 6   atemp       10886 non-null  float64\n",
      " 7   humidity    10886 non-null  int64  \n",
      " 8   windspeed   10886 non-null  float64\n",
      " 9   casual      10886 non-null  int64  \n",
      " 10  registered  10886 non-null  int64  \n",
      " 11  count       10886 non-null  int64  \n",
      "dtypes: float64(3), int64(8), object(1)\n",
      "memory usage: 1020.7+ KB\n"
     ]
    }
   ],
   "source": [
    "df2.info()"
   ]
  },
  {
   "cell_type": "code",
   "execution_count": 76,
   "metadata": {},
   "outputs": [],
   "source": [
    "# Transform datetime to a datetime data format\n",
    "df2['datetime'] = pd.to_datetime(df2['datetime'])\n",
    "df2['hour'] = df2['datetime'].dt.hour\n",
    "df2['month'] = df2['datetime'].dt.month\n",
    "df2['day'] = df2['datetime'].dt.day\n",
    "\n",
    "# create funciton to classify amounts \n",
    "def total_cat(x):\n",
    "    if x >= 0 and x < 10:\n",
    "        return '0-10'\n",
    "    elif x >= 50 and x <100:\n",
    "        return '50-100'\n",
    "    else:\n",
    "        return '100'\n",
    "    \n",
    "# create new column with rental count range using total_cat()function\n",
    "df2['rental_total_group'] = df2['count'].apply(total_cat)\n",
    "\n",
    "# create function with 2 inputs -temp and humidity to classify \n",
    "def good_bad(temp,hum):\n",
    "    if temp > 24 and hum >70:\n",
    "        return 'too hot'\n",
    "    elif temp <=25 and hum >=50 and hum <=70:\n",
    "        return 'so so day'\n",
    "    else:\n",
    "        return 'good day'\n",
    "    \n",
    "# apply function\n",
    "df2['day_type'] = df2.apply(lambda x: good_bad(x['temp'], x['humidity']), axis=1)\n",
    "\n",
    "# Dummy variables -convert season to dummies\n",
    "# first, rename season\n",
    "season_mapping ={1:'winter', 2:'spring', 3:'summer', 4:'fall'}\n",
    "df2['season'] = df2['season'].map(season_mapping)\n",
    "\n",
    "# Create season dummies\n",
    "season_dummies = pd.get_dummies(df2['season'])\n",
    "season_dummies.head()\n",
    "\n",
    "df2 = pd.concat([df2,season_dummies], axis =1)\n"
   ]
  },
  {
   "cell_type": "code",
   "execution_count": null,
   "metadata": {},
   "outputs": [],
   "source": []
  }
 ],
 "metadata": {
  "kernelspec": {
   "display_name": "Python 3",
   "language": "python",
   "name": "python3"
  },
  "language_info": {
   "codemirror_mode": {
    "name": "ipython",
    "version": 3
   },
   "file_extension": ".py",
   "mimetype": "text/x-python",
   "name": "python",
   "nbconvert_exporter": "python",
   "pygments_lexer": "ipython3",
   "version": "3.11.4"
  },
  "orig_nbformat": 4
 },
 "nbformat": 4,
 "nbformat_minor": 2
}
