{
 "cells": [
  {
   "cell_type": "code",
   "execution_count": 58,
   "metadata": {},
   "outputs": [
    {
     "name": "stdout",
     "output_type": "stream",
     "text": [
      "Requirement already satisfied: scikit-learn in c:\\users\\mei88\\appdata\\local\\packages\\pythonsoftwarefoundation.python.3.11_qbz5n2kfra8p0\\localcache\\local-packages\\python311\\site-packages (1.2.2)\n",
      "Requirement already satisfied: numpy>=1.17.3 in c:\\users\\mei88\\appdata\\local\\packages\\pythonsoftwarefoundation.python.3.11_qbz5n2kfra8p0\\localcache\\local-packages\\python311\\site-packages (from scikit-learn) (1.24.3)\n",
      "Requirement already satisfied: scipy>=1.3.2 in c:\\users\\mei88\\appdata\\local\\packages\\pythonsoftwarefoundation.python.3.11_qbz5n2kfra8p0\\localcache\\local-packages\\python311\\site-packages (from scikit-learn) (1.10.1)\n",
      "Requirement already satisfied: joblib>=1.1.1 in c:\\users\\mei88\\appdata\\local\\packages\\pythonsoftwarefoundation.python.3.11_qbz5n2kfra8p0\\localcache\\local-packages\\python311\\site-packages (from scikit-learn) (1.2.0)\n",
      "Requirement already satisfied: threadpoolctl>=2.0.0 in c:\\users\\mei88\\appdata\\local\\packages\\pythonsoftwarefoundation.python.3.11_qbz5n2kfra8p0\\localcache\\local-packages\\python311\\site-packages (from scikit-learn) (3.1.0)\n",
      "Note: you may need to restart the kernel to use updated packages.\n"
     ]
    }
   ],
   "source": [
    "pip install scikit-learn"
   ]
  },
  {
   "cell_type": "code",
   "execution_count": 59,
   "metadata": {},
   "outputs": [],
   "source": [
    "import pandas as pd\n",
    "from sklearn.decomposition import PCA\n",
    "from sklearn.preprocessing import StandardScaler"
   ]
  },
  {
   "cell_type": "code",
   "execution_count": 60,
   "metadata": {},
   "outputs": [],
   "source": [
    "df = pd.read_csv(r\"C:\\MY FILE\\MBAN 6110S-Data Science\\module_5_feature_engineering_demo.csv\")"
   ]
  },
  {
   "cell_type": "code",
   "execution_count": 61,
   "metadata": {},
   "outputs": [
    {
     "data": {
      "text/html": [
       "<div>\n",
       "<style scoped>\n",
       "    .dataframe tbody tr th:only-of-type {\n",
       "        vertical-align: middle;\n",
       "    }\n",
       "\n",
       "    .dataframe tbody tr th {\n",
       "        vertical-align: top;\n",
       "    }\n",
       "\n",
       "    .dataframe thead th {\n",
       "        text-align: right;\n",
       "    }\n",
       "</style>\n",
       "<table border=\"1\" class=\"dataframe\">\n",
       "  <thead>\n",
       "    <tr style=\"text-align: right;\">\n",
       "      <th></th>\n",
       "      <th>Unnamed: 0</th>\n",
       "      <th>Height</th>\n",
       "      <th>Weight</th>\n",
       "      <th>Calories_Intake</th>\n",
       "      <th>Exercise_Time</th>\n",
       "      <th>BMI</th>\n",
       "      <th>Age</th>\n",
       "      <th>Resting_Heart_Rate</th>\n",
       "    </tr>\n",
       "  </thead>\n",
       "  <tbody>\n",
       "    <tr>\n",
       "      <th>0</th>\n",
       "      <td>0</td>\n",
       "      <td>187.640523</td>\n",
       "      <td>81.119254</td>\n",
       "      <td>1733.539473</td>\n",
       "      <td>4.593274</td>\n",
       "      <td>23.039374</td>\n",
       "      <td>70</td>\n",
       "      <td>54.540176</td>\n",
       "    </tr>\n",
       "    <tr>\n",
       "      <th>1</th>\n",
       "      <td>1</td>\n",
       "      <td>174.001572</td>\n",
       "      <td>87.849478</td>\n",
       "      <td>1644.014918</td>\n",
       "      <td>3.568722</td>\n",
       "      <td>29.015686</td>\n",
       "      <td>38</td>\n",
       "      <td>63.510746</td>\n",
       "    </tr>\n",
       "    <tr>\n",
       "      <th>2</th>\n",
       "      <td>2</td>\n",
       "      <td>179.787380</td>\n",
       "      <td>61.553704</td>\n",
       "      <td>2523.067529</td>\n",
       "      <td>2.885513</td>\n",
       "      <td>19.043018</td>\n",
       "      <td>76</td>\n",
       "      <td>49.502603</td>\n",
       "    </tr>\n",
       "    <tr>\n",
       "      <th>3</th>\n",
       "      <td>3</td>\n",
       "      <td>192.408932</td>\n",
       "      <td>72.094281</td>\n",
       "      <td>2020.812760</td>\n",
       "      <td>3.251630</td>\n",
       "      <td>19.473784</td>\n",
       "      <td>35</td>\n",
       "      <td>72.310220</td>\n",
       "    </tr>\n",
       "    <tr>\n",
       "      <th>4</th>\n",
       "      <td>4</td>\n",
       "      <td>188.675580</td>\n",
       "      <td>74.561067</td>\n",
       "      <td>2459.594194</td>\n",
       "      <td>1.789144</td>\n",
       "      <td>20.945017</td>\n",
       "      <td>49</td>\n",
       "      <td>67.864721</td>\n",
       "    </tr>\n",
       "  </tbody>\n",
       "</table>\n",
       "</div>"
      ],
      "text/plain": [
       "   Unnamed: 0      Height     Weight  Calories_Intake  Exercise_Time  \\\n",
       "0           0  187.640523  81.119254      1733.539473       4.593274   \n",
       "1           1  174.001572  87.849478      1644.014918       3.568722   \n",
       "2           2  179.787380  61.553704      2523.067529       2.885513   \n",
       "3           3  192.408932  72.094281      2020.812760       3.251630   \n",
       "4           4  188.675580  74.561067      2459.594194       1.789144   \n",
       "\n",
       "         BMI  Age  Resting_Heart_Rate  \n",
       "0  23.039374   70           54.540176  \n",
       "1  29.015686   38           63.510746  \n",
       "2  19.043018   76           49.502603  \n",
       "3  19.473784   35           72.310220  \n",
       "4  20.945017   49           67.864721  "
      ]
     },
     "execution_count": 61,
     "metadata": {},
     "output_type": "execute_result"
    }
   ],
   "source": [
    "df.head()\n"
   ]
  },
  {
   "cell_type": "code",
   "execution_count": 62,
   "metadata": {},
   "outputs": [
    {
     "data": {
      "text/plain": [
       "Index(['Unnamed: 0', 'Height', 'Weight', 'Calories_Intake', 'Exercise_Time',\n",
       "       'BMI', 'Age', 'Resting_Heart_Rate'],\n",
       "      dtype='object')"
      ]
     },
     "execution_count": 62,
     "metadata": {},
     "output_type": "execute_result"
    }
   ],
   "source": [
    "df.columns"
   ]
  },
  {
   "cell_type": "code",
   "execution_count": 63,
   "metadata": {},
   "outputs": [],
   "source": [
    "df.drop('Unnamed: 0', axis = 1, inplace=True)"
   ]
  },
  {
   "cell_type": "code",
   "execution_count": 64,
   "metadata": {},
   "outputs": [
    {
     "ename": "NameError",
     "evalue": "name 'df_std' is not defined",
     "output_type": "error",
     "traceback": [
      "\u001b[1;31m---------------------------------------------------------------------------\u001b[0m",
      "\u001b[1;31mNameError\u001b[0m                                 Traceback (most recent call last)",
      "Cell \u001b[1;32mIn[64], line 8\u001b[0m\n\u001b[0;32m      6\u001b[0m \u001b[39m# Perform PCA\u001b[39;00m\n\u001b[0;32m      7\u001b[0m pca \u001b[39m=\u001b[39m PCA()\n\u001b[1;32m----> 8\u001b[0m df_pca \u001b[39m=\u001b[39m pca\u001b[39m.\u001b[39mfit_transform(df_std)\n",
      "\u001b[1;31mNameError\u001b[0m: name 'df_std' is not defined"
     ]
    }
   ],
   "source": [
    "# Standardize the feature\n",
    "\n",
    "scaler = StandardScaler()\n",
    "dt_std = scaler.fit_transform(df)\n",
    "\n",
    "# Perform PCA\n",
    "pca = PCA()\n",
    "df_pca = pca.fit_transform(df_std)\n",
    "\n"
   ]
  },
  {
   "cell_type": "code",
   "execution_count": null,
   "metadata": {},
   "outputs": [
    {
     "ename": "NameError",
     "evalue": "name 'df_pca' is not defined",
     "output_type": "error",
     "traceback": [
      "\u001b[1;31m---------------------------------------------------------------------------\u001b[0m",
      "\u001b[1;31mNameError\u001b[0m                                 Traceback (most recent call last)",
      "Cell \u001b[1;32mIn[57], line 1\u001b[0m\n\u001b[1;32m----> 1\u001b[0m df_pca \u001b[39m=\u001b[39m pd\u001b[39m.\u001b[39mDataFrame(df_pca, columns\u001b[39m=\u001b[39m[\u001b[39mf\u001b[39m\u001b[39m'\u001b[39m\u001b[39mPC\u001b[39m\u001b[39m{\u001b[39;00mi\u001b[39m+\u001b[39m\u001b[39m1\u001b[39m\u001b[39m}\u001b[39;00m\u001b[39m'\u001b[39m \u001b[39mfor\u001b[39;00m i \u001b[39min\u001b[39;00m \u001b[39mrange\u001b[39m(\u001b[39mlen\u001b[39m(df\u001b[39m.\u001b[39mcolumns))])\n",
      "\u001b[1;31mNameError\u001b[0m: name 'df_pca' is not defined"
     ]
    }
   ],
   "source": [
    "df_pca = pd.DataFrame(df_pca, columns=[f'PC{i+1}' for i in range(len(df.columns))])"
   ]
  },
  {
   "cell_type": "code",
   "execution_count": null,
   "metadata": {},
   "outputs": [
    {
     "ename": "SyntaxError",
     "evalue": "invalid syntax. Perhaps you forgot a comma? (1276206763.py, line 2)",
     "output_type": "error",
     "traceback": [
      "\u001b[1;36m  Cell \u001b[1;32mIn[56], line 2\u001b[1;36m\u001b[0m\n\u001b[1;33m    df_pca = pd.DataFrame(df_pca, columns=[f'PC{I+1}' FOR i in range(len(df.columns))])\u001b[0m\n\u001b[1;37m                                           ^\u001b[0m\n\u001b[1;31mSyntaxError\u001b[0m\u001b[1;31m:\u001b[0m invalid syntax. Perhaps you forgot a comma?\n"
     ]
    }
   ],
   "source": [
    "# The transformed data is an array, convert it back into a dataframe\n",
    "df_pca = pd.DataFrame(df_pca, columns=[f'PC{I+1}' FOR i in range(len(df.columns))])"
   ]
  },
  {
   "cell_type": "code",
   "execution_count": null,
   "metadata": {},
   "outputs": [],
   "source": []
  }
 ],
 "metadata": {
  "kernelspec": {
   "display_name": "Python 3",
   "language": "python",
   "name": "python3"
  },
  "language_info": {
   "codemirror_mode": {
    "name": "ipython",
    "version": 3
   },
   "file_extension": ".py",
   "mimetype": "text/x-python",
   "name": "python",
   "nbconvert_exporter": "python",
   "pygments_lexer": "ipython3",
   "version": "3.11.4"
  },
  "orig_nbformat": 4
 },
 "nbformat": 4,
 "nbformat_minor": 2
}
