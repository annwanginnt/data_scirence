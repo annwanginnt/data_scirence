{
 "cells": [
  {
   "cell_type": "code",
   "execution_count": 248,
   "metadata": {},
   "outputs": [],
   "source": [
    "import pandas as pd\n",
    "import numpy as np\n",
    "import seaborn as sns\n",
    "from scipy import stats\n",
    "from scipy.stats import mannwhitneyu\n"
   ]
  },
  {
   "cell_type": "code",
   "execution_count": 249,
   "metadata": {},
   "outputs": [],
   "source": [
    "df = pd.read_csv(r\"C:\\Users\\mei88\\Downloads\\midterm_data.csv\")"
   ]
  },
  {
   "cell_type": "code",
   "execution_count": 250,
   "metadata": {},
   "outputs": [
    {
     "name": "stdout",
     "output_type": "stream",
     "text": [
      "<class 'pandas.core.frame.DataFrame'>\n",
      "RangeIndex: 5000 entries, 0 to 4999\n",
      "Data columns (total 10 columns):\n",
      " #   Column           Non-Null Count  Dtype  \n",
      "---  ------           --------------  -----  \n",
      " 0   userID           5000 non-null   int64  \n",
      " 1   age              5000 non-null   int64  \n",
      " 2   sessions         5000 non-null   int64  \n",
      " 3   time_spent       5000 non-null   float64\n",
      " 4   pages_visited    5000 non-null   int64  \n",
      " 5   cart_items       5000 non-null   int64  \n",
      " 6   cart_value       5000 non-null   float64\n",
      " 7   checkout_status  5000 non-null   int64  \n",
      " 8   device           4900 non-null   object \n",
      " 9   location         4970 non-null   object \n",
      "dtypes: float64(2), int64(6), object(2)\n",
      "memory usage: 390.8+ KB\n"
     ]
    }
   ],
   "source": [
    "df.info()"
   ]
  },
  {
   "cell_type": "code",
   "execution_count": 251,
   "metadata": {},
   "outputs": [
    {
     "data": {
      "text/html": [
       "<div>\n",
       "<style scoped>\n",
       "    .dataframe tbody tr th:only-of-type {\n",
       "        vertical-align: middle;\n",
       "    }\n",
       "\n",
       "    .dataframe tbody tr th {\n",
       "        vertical-align: top;\n",
       "    }\n",
       "\n",
       "    .dataframe thead th {\n",
       "        text-align: right;\n",
       "    }\n",
       "</style>\n",
       "<table border=\"1\" class=\"dataframe\">\n",
       "  <thead>\n",
       "    <tr style=\"text-align: right;\">\n",
       "      <th></th>\n",
       "      <th>userID</th>\n",
       "      <th>age</th>\n",
       "      <th>sessions</th>\n",
       "      <th>time_spent</th>\n",
       "      <th>pages_visited</th>\n",
       "      <th>cart_items</th>\n",
       "      <th>cart_value</th>\n",
       "      <th>checkout_status</th>\n",
       "      <th>device</th>\n",
       "      <th>location</th>\n",
       "    </tr>\n",
       "  </thead>\n",
       "  <tbody>\n",
       "    <tr>\n",
       "      <th>count</th>\n",
       "      <td>5000.000000</td>\n",
       "      <td>5000.000000</td>\n",
       "      <td>5000.000000</td>\n",
       "      <td>5000.000000</td>\n",
       "      <td>5000.000000</td>\n",
       "      <td>5000.000000</td>\n",
       "      <td>5000.000000</td>\n",
       "      <td>5000.000000</td>\n",
       "      <td>4900</td>\n",
       "      <td>4970</td>\n",
       "    </tr>\n",
       "    <tr>\n",
       "      <th>unique</th>\n",
       "      <td>NaN</td>\n",
       "      <td>NaN</td>\n",
       "      <td>NaN</td>\n",
       "      <td>NaN</td>\n",
       "      <td>NaN</td>\n",
       "      <td>NaN</td>\n",
       "      <td>NaN</td>\n",
       "      <td>NaN</td>\n",
       "      <td>3</td>\n",
       "      <td>5</td>\n",
       "    </tr>\n",
       "    <tr>\n",
       "      <th>top</th>\n",
       "      <td>NaN</td>\n",
       "      <td>NaN</td>\n",
       "      <td>NaN</td>\n",
       "      <td>NaN</td>\n",
       "      <td>NaN</td>\n",
       "      <td>NaN</td>\n",
       "      <td>NaN</td>\n",
       "      <td>NaN</td>\n",
       "      <td>Desktop</td>\n",
       "      <td>Location 4</td>\n",
       "    </tr>\n",
       "    <tr>\n",
       "      <th>freq</th>\n",
       "      <td>NaN</td>\n",
       "      <td>NaN</td>\n",
       "      <td>NaN</td>\n",
       "      <td>NaN</td>\n",
       "      <td>NaN</td>\n",
       "      <td>NaN</td>\n",
       "      <td>NaN</td>\n",
       "      <td>NaN</td>\n",
       "      <td>2538</td>\n",
       "      <td>1056</td>\n",
       "    </tr>\n",
       "    <tr>\n",
       "      <th>mean</th>\n",
       "      <td>2500.500000</td>\n",
       "      <td>41.538200</td>\n",
       "      <td>5.027200</td>\n",
       "      <td>25.158496</td>\n",
       "      <td>5.774400</td>\n",
       "      <td>14.966400</td>\n",
       "      <td>149.443146</td>\n",
       "      <td>0.272400</td>\n",
       "      <td>NaN</td>\n",
       "      <td>NaN</td>\n",
       "    </tr>\n",
       "    <tr>\n",
       "      <th>std</th>\n",
       "      <td>1443.520003</td>\n",
       "      <td>14.042734</td>\n",
       "      <td>2.594958</td>\n",
       "      <td>9.825536</td>\n",
       "      <td>2.570842</td>\n",
       "      <td>6.046336</td>\n",
       "      <td>68.711683</td>\n",
       "      <td>0.445239</td>\n",
       "      <td>NaN</td>\n",
       "      <td>NaN</td>\n",
       "    </tr>\n",
       "    <tr>\n",
       "      <th>min</th>\n",
       "      <td>1.000000</td>\n",
       "      <td>18.000000</td>\n",
       "      <td>1.000000</td>\n",
       "      <td>1.000000</td>\n",
       "      <td>1.000000</td>\n",
       "      <td>5.000000</td>\n",
       "      <td>20.410000</td>\n",
       "      <td>0.000000</td>\n",
       "      <td>NaN</td>\n",
       "      <td>NaN</td>\n",
       "    </tr>\n",
       "    <tr>\n",
       "      <th>25%</th>\n",
       "      <td>1250.750000</td>\n",
       "      <td>29.000000</td>\n",
       "      <td>3.000000</td>\n",
       "      <td>18.268862</td>\n",
       "      <td>4.000000</td>\n",
       "      <td>10.000000</td>\n",
       "      <td>92.482500</td>\n",
       "      <td>0.000000</td>\n",
       "      <td>NaN</td>\n",
       "      <td>NaN</td>\n",
       "    </tr>\n",
       "    <tr>\n",
       "      <th>50%</th>\n",
       "      <td>2500.500000</td>\n",
       "      <td>42.000000</td>\n",
       "      <td>5.000000</td>\n",
       "      <td>25.035361</td>\n",
       "      <td>6.000000</td>\n",
       "      <td>15.000000</td>\n",
       "      <td>143.440000</td>\n",
       "      <td>0.000000</td>\n",
       "      <td>NaN</td>\n",
       "      <td>NaN</td>\n",
       "    </tr>\n",
       "    <tr>\n",
       "      <th>75%</th>\n",
       "      <td>3750.250000</td>\n",
       "      <td>54.000000</td>\n",
       "      <td>7.000000</td>\n",
       "      <td>32.000361</td>\n",
       "      <td>8.000000</td>\n",
       "      <td>20.000000</td>\n",
       "      <td>198.380000</td>\n",
       "      <td>1.000000</td>\n",
       "      <td>NaN</td>\n",
       "      <td>NaN</td>\n",
       "    </tr>\n",
       "    <tr>\n",
       "      <th>max</th>\n",
       "      <td>5000.000000</td>\n",
       "      <td>65.000000</td>\n",
       "      <td>9.000000</td>\n",
       "      <td>90.000000</td>\n",
       "      <td>12.000000</td>\n",
       "      <td>25.000000</td>\n",
       "      <td>427.400000</td>\n",
       "      <td>1.000000</td>\n",
       "      <td>NaN</td>\n",
       "      <td>NaN</td>\n",
       "    </tr>\n",
       "  </tbody>\n",
       "</table>\n",
       "</div>"
      ],
      "text/plain": [
       "             userID          age     sessions   time_spent  pages_visited  \\\n",
       "count   5000.000000  5000.000000  5000.000000  5000.000000    5000.000000   \n",
       "unique          NaN          NaN          NaN          NaN            NaN   \n",
       "top             NaN          NaN          NaN          NaN            NaN   \n",
       "freq            NaN          NaN          NaN          NaN            NaN   \n",
       "mean    2500.500000    41.538200     5.027200    25.158496       5.774400   \n",
       "std     1443.520003    14.042734     2.594958     9.825536       2.570842   \n",
       "min        1.000000    18.000000     1.000000     1.000000       1.000000   \n",
       "25%     1250.750000    29.000000     3.000000    18.268862       4.000000   \n",
       "50%     2500.500000    42.000000     5.000000    25.035361       6.000000   \n",
       "75%     3750.250000    54.000000     7.000000    32.000361       8.000000   \n",
       "max     5000.000000    65.000000     9.000000    90.000000      12.000000   \n",
       "\n",
       "         cart_items   cart_value  checkout_status   device    location  \n",
       "count   5000.000000  5000.000000      5000.000000     4900        4970  \n",
       "unique          NaN          NaN              NaN        3           5  \n",
       "top             NaN          NaN              NaN  Desktop  Location 4  \n",
       "freq            NaN          NaN              NaN     2538        1056  \n",
       "mean      14.966400   149.443146         0.272400      NaN         NaN  \n",
       "std        6.046336    68.711683         0.445239      NaN         NaN  \n",
       "min        5.000000    20.410000         0.000000      NaN         NaN  \n",
       "25%       10.000000    92.482500         0.000000      NaN         NaN  \n",
       "50%       15.000000   143.440000         0.000000      NaN         NaN  \n",
       "75%       20.000000   198.380000         1.000000      NaN         NaN  \n",
       "max       25.000000   427.400000         1.000000      NaN         NaN  "
      ]
     },
     "execution_count": 251,
     "metadata": {},
     "output_type": "execute_result"
    }
   ],
   "source": [
    "df.describe(include='all')"
   ]
  },
  {
   "cell_type": "code",
   "execution_count": 252,
   "metadata": {},
   "outputs": [
    {
     "data": {
      "text/html": [
       "<div>\n",
       "<style scoped>\n",
       "    .dataframe tbody tr th:only-of-type {\n",
       "        vertical-align: middle;\n",
       "    }\n",
       "\n",
       "    .dataframe tbody tr th {\n",
       "        vertical-align: top;\n",
       "    }\n",
       "\n",
       "    .dataframe thead th {\n",
       "        text-align: right;\n",
       "    }\n",
       "</style>\n",
       "<table border=\"1\" class=\"dataframe\">\n",
       "  <thead>\n",
       "    <tr style=\"text-align: right;\">\n",
       "      <th></th>\n",
       "      <th>userID</th>\n",
       "      <th>age</th>\n",
       "      <th>sessions</th>\n",
       "      <th>time_spent</th>\n",
       "      <th>pages_visited</th>\n",
       "      <th>cart_items</th>\n",
       "      <th>cart_value</th>\n",
       "      <th>checkout_status</th>\n",
       "      <th>device</th>\n",
       "      <th>location</th>\n",
       "    </tr>\n",
       "  </thead>\n",
       "  <tbody>\n",
       "    <tr>\n",
       "      <th>0</th>\n",
       "      <td>1</td>\n",
       "      <td>62</td>\n",
       "      <td>3</td>\n",
       "      <td>13.295129</td>\n",
       "      <td>2</td>\n",
       "      <td>20</td>\n",
       "      <td>199.21</td>\n",
       "      <td>0</td>\n",
       "      <td>Desktop</td>\n",
       "      <td>Location 1</td>\n",
       "    </tr>\n",
       "    <tr>\n",
       "      <th>1</th>\n",
       "      <td>2</td>\n",
       "      <td>65</td>\n",
       "      <td>2</td>\n",
       "      <td>21.686405</td>\n",
       "      <td>3</td>\n",
       "      <td>21</td>\n",
       "      <td>294.82</td>\n",
       "      <td>0</td>\n",
       "      <td>Desktop</td>\n",
       "      <td>Location 3</td>\n",
       "    </tr>\n",
       "    <tr>\n",
       "      <th>2</th>\n",
       "      <td>3</td>\n",
       "      <td>18</td>\n",
       "      <td>7</td>\n",
       "      <td>17.135220</td>\n",
       "      <td>4</td>\n",
       "      <td>23</td>\n",
       "      <td>240.87</td>\n",
       "      <td>0</td>\n",
       "      <td>Desktop</td>\n",
       "      <td>Location 4</td>\n",
       "    </tr>\n",
       "    <tr>\n",
       "      <th>3</th>\n",
       "      <td>4</td>\n",
       "      <td>21</td>\n",
       "      <td>9</td>\n",
       "      <td>29.589311</td>\n",
       "      <td>8</td>\n",
       "      <td>16</td>\n",
       "      <td>183.78</td>\n",
       "      <td>1</td>\n",
       "      <td>Desktop</td>\n",
       "      <td>Location 2</td>\n",
       "    </tr>\n",
       "    <tr>\n",
       "      <th>4</th>\n",
       "      <td>5</td>\n",
       "      <td>21</td>\n",
       "      <td>3</td>\n",
       "      <td>25.948584</td>\n",
       "      <td>4</td>\n",
       "      <td>10</td>\n",
       "      <td>59.51</td>\n",
       "      <td>1</td>\n",
       "      <td>Tablet</td>\n",
       "      <td>Location 4</td>\n",
       "    </tr>\n",
       "  </tbody>\n",
       "</table>\n",
       "</div>"
      ],
      "text/plain": [
       "   userID  age  sessions  time_spent  pages_visited  cart_items  cart_value  \\\n",
       "0       1   62         3   13.295129              2          20      199.21   \n",
       "1       2   65         2   21.686405              3          21      294.82   \n",
       "2       3   18         7   17.135220              4          23      240.87   \n",
       "3       4   21         9   29.589311              8          16      183.78   \n",
       "4       5   21         3   25.948584              4          10       59.51   \n",
       "\n",
       "   checkout_status   device    location  \n",
       "0                0  Desktop  Location 1  \n",
       "1                0  Desktop  Location 3  \n",
       "2                0  Desktop  Location 4  \n",
       "3                1  Desktop  Location 2  \n",
       "4                1   Tablet  Location 4  "
      ]
     },
     "execution_count": 252,
     "metadata": {},
     "output_type": "execute_result"
    }
   ],
   "source": [
    "df.head()"
   ]
  },
  {
   "cell_type": "code",
   "execution_count": 253,
   "metadata": {},
   "outputs": [
    {
     "data": {
      "text/plain": [
       "0       0\n",
       "1       0\n",
       "2       0\n",
       "3       1\n",
       "4       1\n",
       "       ..\n",
       "4995    0\n",
       "4996    0\n",
       "4997    1\n",
       "4998    0\n",
       "4999    1\n",
       "Name: checkout_status, Length: 5000, dtype: category\n",
       "Categories (2, int64): [0, 1]"
      ]
     },
     "execution_count": 253,
     "metadata": {},
     "output_type": "execute_result"
    }
   ],
   "source": [
    "df['checkout_status'].astype('category')"
   ]
  },
  {
   "cell_type": "code",
   "execution_count": 254,
   "metadata": {},
   "outputs": [
    {
     "data": {
      "text/plain": [
       "0"
      ]
     },
     "execution_count": 254,
     "metadata": {},
     "output_type": "execute_result"
    }
   ],
   "source": [
    "df.duplicated().sum()"
   ]
  },
  {
   "cell_type": "code",
   "execution_count": 255,
   "metadata": {},
   "outputs": [],
   "source": [
    "df.set_index('userID', inplace=True)"
   ]
  },
  {
   "cell_type": "code",
   "execution_count": 256,
   "metadata": {},
   "outputs": [
    {
     "data": {
      "text/plain": [
       "age                  0\n",
       "sessions             0\n",
       "time_spent           0\n",
       "pages_visited        0\n",
       "cart_items           0\n",
       "cart_value           0\n",
       "checkout_status      0\n",
       "device             100\n",
       "location            30\n",
       "dtype: int64"
      ]
     },
     "execution_count": 256,
     "metadata": {},
     "output_type": "execute_result"
    }
   ],
   "source": [
    "#check the missing value\n",
    "df.isnull().sum()\n"
   ]
  },
  {
   "attachments": {},
   "cell_type": "markdown",
   "metadata": {},
   "source": [
    "Drop the NULL cells -total 130"
   ]
  },
  {
   "cell_type": "code",
   "execution_count": 257,
   "metadata": {},
   "outputs": [],
   "source": [
    "df.drop(df[df['device'].isnull()].index, axis = 0, inplace =True)"
   ]
  },
  {
   "cell_type": "code",
   "execution_count": 258,
   "metadata": {},
   "outputs": [],
   "source": [
    "df.drop(df[df['location'].isnull()].index, axis = 0, inplace =True)"
   ]
  },
  {
   "cell_type": "code",
   "execution_count": 259,
   "metadata": {},
   "outputs": [
    {
     "data": {
      "text/html": [
       "<div>\n",
       "<style scoped>\n",
       "    .dataframe tbody tr th:only-of-type {\n",
       "        vertical-align: middle;\n",
       "    }\n",
       "\n",
       "    .dataframe tbody tr th {\n",
       "        vertical-align: top;\n",
       "    }\n",
       "\n",
       "    .dataframe thead th {\n",
       "        text-align: right;\n",
       "    }\n",
       "</style>\n",
       "<table border=\"1\" class=\"dataframe\">\n",
       "  <thead>\n",
       "    <tr style=\"text-align: right;\">\n",
       "      <th></th>\n",
       "      <th>age</th>\n",
       "      <th>sessions</th>\n",
       "      <th>time_spent</th>\n",
       "      <th>pages_visited</th>\n",
       "      <th>cart_items</th>\n",
       "      <th>cart_value</th>\n",
       "      <th>checkout_status</th>\n",
       "      <th>device</th>\n",
       "      <th>location</th>\n",
       "    </tr>\n",
       "  </thead>\n",
       "  <tbody>\n",
       "    <tr>\n",
       "      <th>count</th>\n",
       "      <td>4871.00000</td>\n",
       "      <td>4871.000000</td>\n",
       "      <td>4871.000000</td>\n",
       "      <td>4871.000000</td>\n",
       "      <td>4871.000000</td>\n",
       "      <td>4871.000000</td>\n",
       "      <td>4871.000000</td>\n",
       "      <td>4871</td>\n",
       "      <td>4871</td>\n",
       "    </tr>\n",
       "    <tr>\n",
       "      <th>unique</th>\n",
       "      <td>NaN</td>\n",
       "      <td>NaN</td>\n",
       "      <td>NaN</td>\n",
       "      <td>NaN</td>\n",
       "      <td>NaN</td>\n",
       "      <td>NaN</td>\n",
       "      <td>NaN</td>\n",
       "      <td>3</td>\n",
       "      <td>5</td>\n",
       "    </tr>\n",
       "    <tr>\n",
       "      <th>top</th>\n",
       "      <td>NaN</td>\n",
       "      <td>NaN</td>\n",
       "      <td>NaN</td>\n",
       "      <td>NaN</td>\n",
       "      <td>NaN</td>\n",
       "      <td>NaN</td>\n",
       "      <td>NaN</td>\n",
       "      <td>Desktop</td>\n",
       "      <td>Location 4</td>\n",
       "    </tr>\n",
       "    <tr>\n",
       "      <th>freq</th>\n",
       "      <td>NaN</td>\n",
       "      <td>NaN</td>\n",
       "      <td>NaN</td>\n",
       "      <td>NaN</td>\n",
       "      <td>NaN</td>\n",
       "      <td>NaN</td>\n",
       "      <td>NaN</td>\n",
       "      <td>2522</td>\n",
       "      <td>1028</td>\n",
       "    </tr>\n",
       "    <tr>\n",
       "      <th>mean</th>\n",
       "      <td>41.53295</td>\n",
       "      <td>5.023609</td>\n",
       "      <td>25.172038</td>\n",
       "      <td>5.777458</td>\n",
       "      <td>14.971258</td>\n",
       "      <td>149.459444</td>\n",
       "      <td>0.273455</td>\n",
       "      <td>NaN</td>\n",
       "      <td>NaN</td>\n",
       "    </tr>\n",
       "    <tr>\n",
       "      <th>std</th>\n",
       "      <td>14.04452</td>\n",
       "      <td>2.589914</td>\n",
       "      <td>9.821864</td>\n",
       "      <td>2.566198</td>\n",
       "      <td>6.054916</td>\n",
       "      <td>68.811486</td>\n",
       "      <td>0.445778</td>\n",
       "      <td>NaN</td>\n",
       "      <td>NaN</td>\n",
       "    </tr>\n",
       "    <tr>\n",
       "      <th>min</th>\n",
       "      <td>18.00000</td>\n",
       "      <td>1.000000</td>\n",
       "      <td>1.000000</td>\n",
       "      <td>1.000000</td>\n",
       "      <td>5.000000</td>\n",
       "      <td>20.410000</td>\n",
       "      <td>0.000000</td>\n",
       "      <td>NaN</td>\n",
       "      <td>NaN</td>\n",
       "    </tr>\n",
       "    <tr>\n",
       "      <th>25%</th>\n",
       "      <td>29.00000</td>\n",
       "      <td>3.000000</td>\n",
       "      <td>18.298029</td>\n",
       "      <td>4.000000</td>\n",
       "      <td>10.000000</td>\n",
       "      <td>92.415000</td>\n",
       "      <td>0.000000</td>\n",
       "      <td>NaN</td>\n",
       "      <td>NaN</td>\n",
       "    </tr>\n",
       "    <tr>\n",
       "      <th>50%</th>\n",
       "      <td>42.00000</td>\n",
       "      <td>5.000000</td>\n",
       "      <td>25.054759</td>\n",
       "      <td>6.000000</td>\n",
       "      <td>15.000000</td>\n",
       "      <td>143.020000</td>\n",
       "      <td>0.000000</td>\n",
       "      <td>NaN</td>\n",
       "      <td>NaN</td>\n",
       "    </tr>\n",
       "    <tr>\n",
       "      <th>75%</th>\n",
       "      <td>54.00000</td>\n",
       "      <td>7.000000</td>\n",
       "      <td>31.991099</td>\n",
       "      <td>8.000000</td>\n",
       "      <td>20.000000</td>\n",
       "      <td>198.550000</td>\n",
       "      <td>1.000000</td>\n",
       "      <td>NaN</td>\n",
       "      <td>NaN</td>\n",
       "    </tr>\n",
       "    <tr>\n",
       "      <th>max</th>\n",
       "      <td>65.00000</td>\n",
       "      <td>9.000000</td>\n",
       "      <td>90.000000</td>\n",
       "      <td>12.000000</td>\n",
       "      <td>25.000000</td>\n",
       "      <td>427.400000</td>\n",
       "      <td>1.000000</td>\n",
       "      <td>NaN</td>\n",
       "      <td>NaN</td>\n",
       "    </tr>\n",
       "  </tbody>\n",
       "</table>\n",
       "</div>"
      ],
      "text/plain": [
       "               age     sessions   time_spent  pages_visited   cart_items  \\\n",
       "count   4871.00000  4871.000000  4871.000000    4871.000000  4871.000000   \n",
       "unique         NaN          NaN          NaN            NaN          NaN   \n",
       "top            NaN          NaN          NaN            NaN          NaN   \n",
       "freq           NaN          NaN          NaN            NaN          NaN   \n",
       "mean      41.53295     5.023609    25.172038       5.777458    14.971258   \n",
       "std       14.04452     2.589914     9.821864       2.566198     6.054916   \n",
       "min       18.00000     1.000000     1.000000       1.000000     5.000000   \n",
       "25%       29.00000     3.000000    18.298029       4.000000    10.000000   \n",
       "50%       42.00000     5.000000    25.054759       6.000000    15.000000   \n",
       "75%       54.00000     7.000000    31.991099       8.000000    20.000000   \n",
       "max       65.00000     9.000000    90.000000      12.000000    25.000000   \n",
       "\n",
       "         cart_value  checkout_status   device    location  \n",
       "count   4871.000000      4871.000000     4871        4871  \n",
       "unique          NaN              NaN        3           5  \n",
       "top             NaN              NaN  Desktop  Location 4  \n",
       "freq            NaN              NaN     2522        1028  \n",
       "mean     149.459444         0.273455      NaN         NaN  \n",
       "std       68.811486         0.445778      NaN         NaN  \n",
       "min       20.410000         0.000000      NaN         NaN  \n",
       "25%       92.415000         0.000000      NaN         NaN  \n",
       "50%      143.020000         0.000000      NaN         NaN  \n",
       "75%      198.550000         1.000000      NaN         NaN  \n",
       "max      427.400000         1.000000      NaN         NaN  "
      ]
     },
     "execution_count": 259,
     "metadata": {},
     "output_type": "execute_result"
    }
   ],
   "source": [
    "df.describe(include='all')"
   ]
  },
  {
   "cell_type": "code",
   "execution_count": 260,
   "metadata": {},
   "outputs": [
    {
     "data": {
      "text/plain": [
       "array([[<Axes: title={'center': 'age'}>,\n",
       "        <Axes: title={'center': 'sessions'}>,\n",
       "        <Axes: title={'center': 'time_spent'}>],\n",
       "       [<Axes: title={'center': 'pages_visited'}>,\n",
       "        <Axes: title={'center': 'cart_items'}>,\n",
       "        <Axes: title={'center': 'cart_value'}>],\n",
       "       [<Axes: title={'center': 'checkout_status'}>, <Axes: >, <Axes: >]],\n",
       "      dtype=object)"
      ]
     },
     "execution_count": 260,
     "metadata": {},
     "output_type": "execute_result"
    },
    {
     "data": {
      "image/png": "[encoded data removed]",
      "text/plain": [
       "<Figure size 1200x1000 with 9 Axes>"
      ]
     },
     "metadata": {},
     "output_type": "display_data"
    }
   ],
   "source": [
    "df.hist(figsize = (12,10))"
   ]
  },
  {
   "attachments": {},
   "cell_type": "markdown",
   "metadata": {},
   "source": [
    "we seperate the two groups first\n",
    "#conduct the hypothesis test to see if the two groups have significant differenct.\n",
    "if there is significant difference, then we will analysis the individaul variables. "
   ]
  },
  {
   "cell_type": "code",
   "execution_count": 261,
   "metadata": {},
   "outputs": [
    {
     "data": {
      "text/html": [
       "<div>\n",
       "<style scoped>\n",
       "    .dataframe tbody tr th:only-of-type {\n",
       "        vertical-align: middle;\n",
       "    }\n",
       "\n",
       "    .dataframe tbody tr th {\n",
       "        vertical-align: top;\n",
       "    }\n",
       "\n",
       "    .dataframe thead th {\n",
       "        text-align: right;\n",
       "    }\n",
       "</style>\n",
       "<table border=\"1\" class=\"dataframe\">\n",
       "  <thead>\n",
       "    <tr style=\"text-align: right;\">\n",
       "      <th></th>\n",
       "      <th>age</th>\n",
       "      <th>sessions</th>\n",
       "      <th>time_spent</th>\n",
       "      <th>pages_visited</th>\n",
       "      <th>cart_items</th>\n",
       "      <th>cart_value</th>\n",
       "      <th>checkout_status</th>\n",
       "      <th>device</th>\n",
       "      <th>location</th>\n",
       "    </tr>\n",
       "    <tr>\n",
       "      <th>userID</th>\n",
       "      <th></th>\n",
       "      <th></th>\n",
       "      <th></th>\n",
       "      <th></th>\n",
       "      <th></th>\n",
       "      <th></th>\n",
       "      <th></th>\n",
       "      <th></th>\n",
       "      <th></th>\n",
       "    </tr>\n",
       "  </thead>\n",
       "  <tbody>\n",
       "    <tr>\n",
       "      <th>1</th>\n",
       "      <td>62</td>\n",
       "      <td>3</td>\n",
       "      <td>13.295129</td>\n",
       "      <td>2</td>\n",
       "      <td>20</td>\n",
       "      <td>199.21</td>\n",
       "      <td>0</td>\n",
       "      <td>Desktop</td>\n",
       "      <td>Location 1</td>\n",
       "    </tr>\n",
       "    <tr>\n",
       "      <th>2</th>\n",
       "      <td>65</td>\n",
       "      <td>2</td>\n",
       "      <td>21.686405</td>\n",
       "      <td>3</td>\n",
       "      <td>21</td>\n",
       "      <td>294.82</td>\n",
       "      <td>0</td>\n",
       "      <td>Desktop</td>\n",
       "      <td>Location 3</td>\n",
       "    </tr>\n",
       "    <tr>\n",
       "      <th>3</th>\n",
       "      <td>18</td>\n",
       "      <td>7</td>\n",
       "      <td>17.135220</td>\n",
       "      <td>4</td>\n",
       "      <td>23</td>\n",
       "      <td>240.87</td>\n",
       "      <td>0</td>\n",
       "      <td>Desktop</td>\n",
       "      <td>Location 4</td>\n",
       "    </tr>\n",
       "    <tr>\n",
       "      <th>4</th>\n",
       "      <td>21</td>\n",
       "      <td>9</td>\n",
       "      <td>29.589311</td>\n",
       "      <td>8</td>\n",
       "      <td>16</td>\n",
       "      <td>183.78</td>\n",
       "      <td>1</td>\n",
       "      <td>Desktop</td>\n",
       "      <td>Location 2</td>\n",
       "    </tr>\n",
       "    <tr>\n",
       "      <th>5</th>\n",
       "      <td>21</td>\n",
       "      <td>3</td>\n",
       "      <td>25.948584</td>\n",
       "      <td>4</td>\n",
       "      <td>10</td>\n",
       "      <td>59.51</td>\n",
       "      <td>1</td>\n",
       "      <td>Tablet</td>\n",
       "      <td>Location 4</td>\n",
       "    </tr>\n",
       "  </tbody>\n",
       "</table>\n",
       "</div>"
      ],
      "text/plain": [
       "        age  sessions  time_spent  pages_visited  cart_items  cart_value  \\\n",
       "userID                                                                     \n",
       "1        62         3   13.295129              2          20      199.21   \n",
       "2        65         2   21.686405              3          21      294.82   \n",
       "3        18         7   17.135220              4          23      240.87   \n",
       "4        21         9   29.589311              8          16      183.78   \n",
       "5        21         3   25.948584              4          10       59.51   \n",
       "\n",
       "        checkout_status   device    location  \n",
       "userID                                        \n",
       "1                     0  Desktop  Location 1  \n",
       "2                     0  Desktop  Location 3  \n",
       "3                     0  Desktop  Location 4  \n",
       "4                     1  Desktop  Location 2  \n",
       "5                     1   Tablet  Location 4  "
      ]
     },
     "execution_count": 261,
     "metadata": {},
     "output_type": "execute_result"
    }
   ],
   "source": [
    "df.head()"
   ]
  },
  {
   "cell_type": "code",
   "execution_count": 262,
   "metadata": {},
   "outputs": [
    {
     "data": {
      "text/plain": [
       "array(['Desktop', 'Tablet', 'Mobile'], dtype=object)"
      ]
     },
     "execution_count": 262,
     "metadata": {},
     "output_type": "execute_result"
    }
   ],
   "source": [
    "df['device'].unique()"
   ]
  },
  {
   "cell_type": "code",
   "execution_count": 263,
   "metadata": {},
   "outputs": [
    {
     "data": {
      "text/plain": [
       "array(['Location 1', 'Location 3', 'Location 4', 'Location 2',\n",
       "       'Location 5'], dtype=object)"
      ]
     },
     "execution_count": 263,
     "metadata": {},
     "output_type": "execute_result"
    }
   ],
   "source": [
    "df['location'].unique()"
   ]
  },
  {
   "cell_type": "code",
   "execution_count": 264,
   "metadata": {},
   "outputs": [
    {
     "data": {
      "text/plain": [
       "Index(['age', 'sessions', 'time_spent', 'pages_visited', 'cart_items',\n",
       "       'cart_value', 'checkout_status', 'device', 'location'],\n",
       "      dtype='object')"
      ]
     },
     "execution_count": 264,
     "metadata": {},
     "output_type": "execute_result"
    }
   ],
   "source": [
    "df.columns"
   ]
  },
  {
   "attachments": {},
   "cell_type": "markdown",
   "metadata": {},
   "source": [
    "first, we do some analhysis  to understand differences between users, we need to make sure the users are similar in behaviour. we use statistic tests to support our analysis "
   ]
  },
  {
   "cell_type": "code",
   "execution_count": 265,
   "metadata": {},
   "outputs": [
    {
     "data": {
      "text/html": [
       "<div>\n",
       "<style scoped>\n",
       "    .dataframe tbody tr th:only-of-type {\n",
       "        vertical-align: middle;\n",
       "    }\n",
       "\n",
       "    .dataframe tbody tr th {\n",
       "        vertical-align: top;\n",
       "    }\n",
       "\n",
       "    .dataframe thead th {\n",
       "        text-align: right;\n",
       "    }\n",
       "</style>\n",
       "<table border=\"1\" class=\"dataframe\">\n",
       "  <thead>\n",
       "    <tr style=\"text-align: right;\">\n",
       "      <th></th>\n",
       "      <th>age</th>\n",
       "      <th>sessions</th>\n",
       "      <th>time_spent</th>\n",
       "      <th>pages_visited</th>\n",
       "      <th>cart_items</th>\n",
       "      <th>cart_value</th>\n",
       "      <th>checkout_status</th>\n",
       "    </tr>\n",
       "    <tr>\n",
       "      <th>location</th>\n",
       "      <th></th>\n",
       "      <th></th>\n",
       "      <th></th>\n",
       "      <th></th>\n",
       "      <th></th>\n",
       "      <th></th>\n",
       "      <th></th>\n",
       "    </tr>\n",
       "  </thead>\n",
       "  <tbody>\n",
       "    <tr>\n",
       "      <th>Location 1</th>\n",
       "      <td>42.343685</td>\n",
       "      <td>4.982402</td>\n",
       "      <td>25.657852</td>\n",
       "      <td>5.840580</td>\n",
       "      <td>15.183230</td>\n",
       "      <td>152.872505</td>\n",
       "      <td>0.280538</td>\n",
       "    </tr>\n",
       "    <tr>\n",
       "      <th>Location 2</th>\n",
       "      <td>41.547009</td>\n",
       "      <td>4.923077</td>\n",
       "      <td>24.967337</td>\n",
       "      <td>5.752137</td>\n",
       "      <td>15.012821</td>\n",
       "      <td>149.232628</td>\n",
       "      <td>0.267094</td>\n",
       "    </tr>\n",
       "    <tr>\n",
       "      <th>Location 3</th>\n",
       "      <td>41.809619</td>\n",
       "      <td>5.014028</td>\n",
       "      <td>24.875527</td>\n",
       "      <td>5.702405</td>\n",
       "      <td>14.891784</td>\n",
       "      <td>147.684780</td>\n",
       "      <td>0.265531</td>\n",
       "    </tr>\n",
       "    <tr>\n",
       "      <th>Location 4</th>\n",
       "      <td>40.925097</td>\n",
       "      <td>5.047665</td>\n",
       "      <td>25.165525</td>\n",
       "      <td>5.785019</td>\n",
       "      <td>14.783074</td>\n",
       "      <td>147.568424</td>\n",
       "      <td>0.283074</td>\n",
       "    </tr>\n",
       "    <tr>\n",
       "      <th>Location 5</th>\n",
       "      <td>41.058324</td>\n",
       "      <td>5.149523</td>\n",
       "      <td>25.198461</td>\n",
       "      <td>5.809120</td>\n",
       "      <td>15.002121</td>\n",
       "      <td>150.127911</td>\n",
       "      <td>0.270414</td>\n",
       "    </tr>\n",
       "  </tbody>\n",
       "</table>\n",
       "</div>"
      ],
      "text/plain": [
       "                  age  sessions  time_spent  pages_visited  cart_items  \\\n",
       "location                                                                 \n",
       "Location 1  42.343685  4.982402   25.657852       5.840580   15.183230   \n",
       "Location 2  41.547009  4.923077   24.967337       5.752137   15.012821   \n",
       "Location 3  41.809619  5.014028   24.875527       5.702405   14.891784   \n",
       "Location 4  40.925097  5.047665   25.165525       5.785019   14.783074   \n",
       "Location 5  41.058324  5.149523   25.198461       5.809120   15.002121   \n",
       "\n",
       "            cart_value  checkout_status  \n",
       "location                                 \n",
       "Location 1  152.872505         0.280538  \n",
       "Location 2  149.232628         0.267094  \n",
       "Location 3  147.684780         0.265531  \n",
       "Location 4  147.568424         0.283074  \n",
       "Location 5  150.127911         0.270414  "
      ]
     },
     "execution_count": 265,
     "metadata": {},
     "output_type": "execute_result"
    }
   ],
   "source": [
    "# By location \n",
    "df.groupby('location')[['age', 'sessions', 'time_spent','pages_visited', 'cart_items', \"cart_value\",'checkout_status']].mean()"
   ]
  },
  {
   "attachments": {},
   "cell_type": "markdown",
   "metadata": {},
   "source": [
    "T-test see if there is a significant difference betweent the two group"
   ]
  },
  {
   "cell_type": "code",
   "execution_count": 266,
   "metadata": {},
   "outputs": [
    {
     "name": "stdout",
     "output_type": "stream",
     "text": [
      "T-statistic: -0.9083884951838309\n",
      "P-value: 0.36371796039549453\n"
     ]
    }
   ],
   "source": [
    "# check the age\n",
    "checkout_group = df[df['checkout_status'] == 1]['age']\n",
    "non_checkout_group = df[df['checkout_status'] == 0]['age']\n",
    "t_stat, p_val =stats.ttest_ind(checkout_group, non_checkout_group)\n",
    "print(f\"T-statistic: {t_stat}\")\n",
    "print(f\"P-value: {p_val}\")"
   ]
  },
  {
   "attachments": {},
   "cell_type": "markdown",
   "metadata": {},
   "source": [
    "we can conclude age does not have significant difference between two groups"
   ]
  },
  {
   "cell_type": "code",
   "execution_count": 267,
   "metadata": {},
   "outputs": [
    {
     "name": "stdout",
     "output_type": "stream",
     "text": [
      "T-statistic: -1.3833807566385996\n",
      "P-value: 0.16661157092305418\n"
     ]
    }
   ],
   "source": [
    "# check the sessions\n",
    "checkout_group = df[df['checkout_status'] == 1]['sessions']\n",
    "non_checkout_group = df[df['checkout_status'] == 0]['sessions']\n",
    "t_stat, p_val =stats.ttest_ind(checkout_group, non_checkout_group)\n",
    "print(f\"T-statistic: {t_stat}\")\n",
    "print(f\"P-value: {p_val}\")"
   ]
  },
  {
   "attachments": {},
   "cell_type": "markdown",
   "metadata": {},
   "source": [
    "we can conclude sessions does not have significant difference between two groups"
   ]
  },
  {
   "cell_type": "code",
   "execution_count": 268,
   "metadata": {},
   "outputs": [
    {
     "name": "stdout",
     "output_type": "stream",
     "text": [
      "T-statistic: 29.01437884807354\n",
      "P-value: 7.252646363809769e-171\n"
     ]
    }
   ],
   "source": [
    "# check the time_spent\n",
    "checkout_group = df[df['checkout_status'] == 1]['time_spent']\n",
    "non_checkout_group = df[df['checkout_status'] == 0]['time_spent']\n",
    "t_stat, p_val =stats.ttest_ind(checkout_group, non_checkout_group)\n",
    "print(f\"T-statistic: {t_stat}\")\n",
    "print(f\"P-value: {p_val}\")"
   ]
  },
  {
   "attachments": {},
   "cell_type": "markdown",
   "metadata": {},
   "source": [
    "Very small P-value, we can conclude 'time_spent' has significant difference"
   ]
  },
  {
   "cell_type": "code",
   "execution_count": null,
   "metadata": {},
   "outputs": [
    {
     "name": "stdout",
     "output_type": "stream",
     "text": [
      "T-statistic: 27.061980794784017\n",
      "P-value: 2.253044494394405e-150\n"
     ]
    }
   ],
   "source": [
    "# check the pages_visited\n",
    "checkout_group = df[df['checkout_status'] == 1]['pages_visited']\n",
    "non_checkout_group = df[df['checkout_status'] == 0]['pages_visited']\n",
    "t_stat, p_val =stats.ttest_ind(checkout_group, non_checkout_group)\n",
    "print(f\"T-statistic: {t_stat}\")\n",
    "print(f\"P-value: {p_val}\")"
   ]
  },
  {
   "cell_type": "code",
   "execution_count": null,
   "metadata": {},
   "outputs": [],
   "source": [
    "Very small P-value, we can conclude 'pages_visited' has significant difference"
   ]
  },
  {
   "cell_type": "code",
   "execution_count": null,
   "metadata": {},
   "outputs": [
    {
     "name": "stdout",
     "output_type": "stream",
     "text": [
      "T-statistic: -6.207198976955317\n",
      "P-value: 5.841328477832585e-10\n"
     ]
    }
   ],
   "source": [
    "# check the cart_items\n",
    "checkout_group = df[df['checkout_status'] == 1]['cart_items']\n",
    "non_checkout_group = df[df['checkout_status'] == 0]['cart_items']\n",
    "t_stat, p_val =stats.ttest_ind(checkout_group, non_checkout_group)\n",
    "print(f\"T-statistic: {t_stat}\")\n",
    "print(f\"P-value: {p_val}\")"
   ]
  },
  {
   "cell_type": "code",
   "execution_count": null,
   "metadata": {},
   "outputs": [],
   "source": [
    "Very small P-value, we can conclude 'cart_items' has significant difference"
   ]
  },
  {
   "cell_type": "code",
   "execution_count": null,
   "metadata": {},
   "outputs": [
    {
     "name": "stdout",
     "output_type": "stream",
     "text": [
      "T-statistic: -5.58542237803329\n",
      "P-value: 2.4580059099364027e-08\n"
     ]
    }
   ],
   "source": [
    "# check the cart_value'\n",
    "checkout_group = df[df['checkout_status'] == 1]['cart_value']\n",
    "non_checkout_group = df[df['checkout_status'] == 0]['cart_value']\n",
    "t_stat, p_val =stats.ttest_ind(checkout_group, non_checkout_group)\n",
    "print(f\"T-statistic: {t_stat}\")\n",
    "print(f\"P-value: {p_val}\")"
   ]
  },
  {
   "cell_type": "code",
   "execution_count": null,
   "metadata": {},
   "outputs": [],
   "source": [
    "Very small P-value, we can conclude 'cart_value' has significant difference"
   ]
  },
  {
   "cell_type": "code",
   "execution_count": null,
   "metadata": {},
   "outputs": [
    {
     "name": "stdout",
     "output_type": "stream",
     "text": [
      "The Test statistic:  11.89987766061614\n",
      "The p_value of the test:  0.0005613763106774908\n"
     ]
    }
   ],
   "source": [
    "# check the device using MannWhity \n",
    "checkout_group = df[df['checkout_status'] == 1]['cart_value']\n",
    "non_checkout_group = df[df['checkout_status'] == 0]['cart_value']\n",
    "U_stat, p_val = stats.mannwhitneyu(checkout_group, non_checkout_group)\n",
    "H, pval = stats.kruskal(checkout_group, non_checkout_group)\n",
    "print('The Test statistic: ', H)\n",
    "print('The p_value of the test: ', pval)"
   ]
  },
  {
   "cell_type": "code",
   "execution_count": null,
   "metadata": {},
   "outputs": [],
   "source": [
    "Very small P-value, we can conclude 'device' has significant difference"
   ]
  },
  {
   "cell_type": "code",
   "execution_count": null,
   "metadata": {},
   "outputs": [
    {
     "data": {
      "text/plain": [
       "array(['Location 1', 'Location 3', 'Location 4', 'Location 2',\n",
       "       'Location 5'], dtype=object)"
      ]
     },
     "execution_count": 157,
     "metadata": {},
     "output_type": "execute_result"
    }
   ],
   "source": [
    "df['location'].unique()"
   ]
  },
  {
   "cell_type": "code",
   "execution_count": null,
   "metadata": {},
   "outputs": [
    {
     "ename": "TypeError",
     "evalue": "ufunc 'isnan' not supported for the input types, and the inputs could not be safely coerced to any supported types according to the casting rule ''safe''",
     "output_type": "error",
     "traceback": [
      "\u001b[1;31m---------------------------------------------------------------------------\u001b[0m",
      "\u001b[1;31mTypeError\u001b[0m                                 Traceback (most recent call last)",
      "Cell \u001b[1;32mIn[185], line 4\u001b[0m\n\u001b[0;32m      2\u001b[0m checkout_group \u001b[39m=\u001b[39m df[df[\u001b[39m'\u001b[39m\u001b[39mcheckout_status\u001b[39m\u001b[39m'\u001b[39m] \u001b[39m==\u001b[39m \u001b[39m1\u001b[39m][\u001b[39m'\u001b[39m\u001b[39mlocation\u001b[39m\u001b[39m'\u001b[39m]\n\u001b[0;32m      3\u001b[0m non_checkout_group \u001b[39m=\u001b[39m df[df[\u001b[39m'\u001b[39m\u001b[39mcheckout_status\u001b[39m\u001b[39m'\u001b[39m] \u001b[39m==\u001b[39m \u001b[39m0\u001b[39m][\u001b[39m'\u001b[39m\u001b[39mlocation\u001b[39m\u001b[39m'\u001b[39m]\n\u001b[1;32m----> 4\u001b[0m U_stat, p_val \u001b[39m=\u001b[39m stats\u001b[39m.\u001b[39;49mmannwhitneyu(checkout_group, non_checkout_group)\n\u001b[0;32m      5\u001b[0m H, pval \u001b[39m=\u001b[39m stats\u001b[39m.\u001b[39mkruskal(checkout_group, non_checkout_group)\n\u001b[0;32m      6\u001b[0m \u001b[39mprint\u001b[39m(\u001b[39m'\u001b[39m\u001b[39mThe Test statistic: \u001b[39m\u001b[39m'\u001b[39m, H)\n",
      "File \u001b[1;32m~\\AppData\\Local\\Packages\\PythonSoftwareFoundation.Python.3.11_qbz5n2kfra8p0\\LocalCache\\local-packages\\Python311\\site-packages\\scipy\\stats\\_axis_nan_policy.py:502\u001b[0m, in \u001b[0;36m_axis_nan_policy_factory.<locals>.axis_nan_policy_decorator.<locals>.axis_nan_policy_wrapper\u001b[1;34m(***failed resolving arguments***)\u001b[0m\n\u001b[0;32m    500\u001b[0m \u001b[39mif\u001b[39;00m sentinel:\n\u001b[0;32m    501\u001b[0m     samples \u001b[39m=\u001b[39m _remove_sentinel(samples, paired, sentinel)\n\u001b[1;32m--> 502\u001b[0m res \u001b[39m=\u001b[39m hypotest_fun_out(\u001b[39m*\u001b[39;49msamples, \u001b[39m*\u001b[39;49m\u001b[39m*\u001b[39;49mkwds)\n\u001b[0;32m    503\u001b[0m res \u001b[39m=\u001b[39m result_to_tuple(res)\n\u001b[0;32m    504\u001b[0m res \u001b[39m=\u001b[39m _add_reduced_axes(res, reduced_axes, keepdims)\n",
      "File \u001b[1;32m~\\AppData\\Local\\Packages\\PythonSoftwareFoundation.Python.3.11_qbz5n2kfra8p0\\LocalCache\\local-packages\\Python311\\site-packages\\scipy\\stats\\_mannwhitneyu.py:460\u001b[0m, in \u001b[0;36mmannwhitneyu\u001b[1;34m(x, y, use_continuity, alternative, axis, method)\u001b[0m\n\u001b[0;32m    249\u001b[0m \u001b[39m@_axis_nan_policy_factory\u001b[39m(MannwhitneyuResult, n_samples\u001b[39m=\u001b[39m\u001b[39m2\u001b[39m)\n\u001b[0;32m    250\u001b[0m \u001b[39mdef\u001b[39;00m \u001b[39mmannwhitneyu\u001b[39m(x, y, use_continuity\u001b[39m=\u001b[39m\u001b[39mTrue\u001b[39;00m, alternative\u001b[39m=\u001b[39m\u001b[39m\"\u001b[39m\u001b[39mtwo-sided\u001b[39m\u001b[39m\"\u001b[39m,\n\u001b[0;32m    251\u001b[0m                  axis\u001b[39m=\u001b[39m\u001b[39m0\u001b[39m, method\u001b[39m=\u001b[39m\u001b[39m\"\u001b[39m\u001b[39mauto\u001b[39m\u001b[39m\"\u001b[39m):\n\u001b[0;32m    252\u001b[0m \u001b[39m    \u001b[39m\u001b[39mr\u001b[39m\u001b[39m'''Perform the Mann-Whitney U rank test on two independent samples.\u001b[39;00m\n\u001b[0;32m    253\u001b[0m \n\u001b[0;32m    254\u001b[0m \u001b[39m    The Mann-Whitney U test is a nonparametric test of the null hypothesis\u001b[39;00m\n\u001b[1;32m   (...)\u001b[0m\n\u001b[0;32m    456\u001b[0m \n\u001b[0;32m    457\u001b[0m \u001b[39m    '''\u001b[39;00m\n\u001b[0;32m    459\u001b[0m     x, y, use_continuity, alternative, axis_int, method \u001b[39m=\u001b[39m (\n\u001b[1;32m--> 460\u001b[0m         _mwu_input_validation(x, y, use_continuity, alternative, axis, method))\n\u001b[0;32m    462\u001b[0m     x, y, xy \u001b[39m=\u001b[39m _broadcast_concatenate(x, y, axis)\n\u001b[0;32m    464\u001b[0m     n1, n2 \u001b[39m=\u001b[39m x\u001b[39m.\u001b[39mshape[\u001b[39m-\u001b[39m\u001b[39m1\u001b[39m], y\u001b[39m.\u001b[39mshape[\u001b[39m-\u001b[39m\u001b[39m1\u001b[39m]\n",
      "File \u001b[1;32m~\\AppData\\Local\\Packages\\PythonSoftwareFoundation.Python.3.11_qbz5n2kfra8p0\\LocalCache\\local-packages\\Python311\\site-packages\\scipy\\stats\\_mannwhitneyu.py:200\u001b[0m, in \u001b[0;36m_mwu_input_validation\u001b[1;34m(x, y, use_continuity, alternative, axis, method)\u001b[0m\n\u001b[0;32m    198\u001b[0m \u001b[39m# Would use np.asarray_chkfinite, but infs are OK\u001b[39;00m\n\u001b[0;32m    199\u001b[0m x, y \u001b[39m=\u001b[39m np\u001b[39m.\u001b[39matleast_1d(x), np\u001b[39m.\u001b[39matleast_1d(y)\n\u001b[1;32m--> 200\u001b[0m \u001b[39mif\u001b[39;00m np\u001b[39m.\u001b[39;49misnan(x)\u001b[39m.\u001b[39many() \u001b[39mor\u001b[39;00m np\u001b[39m.\u001b[39misnan(y)\u001b[39m.\u001b[39many():\n\u001b[0;32m    201\u001b[0m     \u001b[39mraise\u001b[39;00m \u001b[39mValueError\u001b[39;00m(\u001b[39m'\u001b[39m\u001b[39m`x` and `y` must not contain NaNs.\u001b[39m\u001b[39m'\u001b[39m)\n\u001b[0;32m    202\u001b[0m \u001b[39mif\u001b[39;00m np\u001b[39m.\u001b[39msize(x) \u001b[39m==\u001b[39m \u001b[39m0\u001b[39m \u001b[39mor\u001b[39;00m np\u001b[39m.\u001b[39msize(y) \u001b[39m==\u001b[39m \u001b[39m0\u001b[39m:\n",
      "\u001b[1;31mTypeError\u001b[0m: ufunc 'isnan' not supported for the input types, and the inputs could not be safely coerced to any supported types according to the casting rule ''safe''"
     ]
    }
   ],
   "source": [
    "# check the location using MannWhity \n",
    "checkout_group = df[df['checkout_status'] == 1]['location']\n",
    "non_checkout_group = df[df['checkout_status'] == 0]['location']\n",
    "U_stat, p_val = stats.mannwhitneyu(checkout_group, non_checkout_group)\n",
    "H, pval = stats.kruskal(checkout_group, non_checkout_group)\n",
    "print('The Test statistic: ', H)\n",
    "print('The p_value of the test: ', pval)"
   ]
  },
  {
   "cell_type": "code",
   "execution_count": null,
   "metadata": {},
   "outputs": [
    {
     "data": {
      "text/plain": [
       "Index(['age', 'sessions', 'time_spent', 'pages_visited', 'cart_items',\n",
       "       'cart_value', 'checkout_status', 'device', 'location'],\n",
       "      dtype='object')"
      ]
     },
     "execution_count": 213,
     "metadata": {},
     "output_type": "execute_result"
    }
   ],
   "source": [
    "df.columns"
   ]
  },
  {
   "attachments": {},
   "cell_type": "markdown",
   "metadata": {},
   "source": [
    "Overall, two group of users have signfinicant difference on below variables \"time_spent\", \" pages_visited\" \"cart_items\" , \" cart_value\" and ' device\" \n",
    "\n",
    "however, 'age',' sessions' do not have significant difference. "
   ]
  },
  {
   "cell_type": "code",
   "execution_count": null,
   "metadata": {},
   "outputs": [],
   "source": [
    "checkout_group = df[df['checkout_status'] == 1][['time_spent', 'pages_visited', 'cart_items', 'cart_value']].mean()\n",
    "non_checkout_group =df[df['checkout_status'] == 0][['time_spent', 'pages_visited', 'cart_items', 'cart_value']].mean()\n"
   ]
  },
  {
   "cell_type": "code",
   "execution_count": null,
   "metadata": {},
   "outputs": [],
   "source": [
    "comparison = pd.concat([checkout_group, non_checkout_group], axis=1)\n",
    "comparison.columns = ['checkout_mean', 'non_checkout_mean']"
   ]
  },
  {
   "cell_type": "code",
   "execution_count": null,
   "metadata": {},
   "outputs": [
    {
     "data": {
      "text/html": [
       "<div>\n",
       "<style scoped>\n",
       "    .dataframe tbody tr th:only-of-type {\n",
       "        vertical-align: middle;\n",
       "    }\n",
       "\n",
       "    .dataframe tbody tr th {\n",
       "        vertical-align: top;\n",
       "    }\n",
       "\n",
       "    .dataframe thead th {\n",
       "        text-align: right;\n",
       "    }\n",
       "</style>\n",
       "<table border=\"1\" class=\"dataframe\">\n",
       "  <thead>\n",
       "    <tr style=\"text-align: right;\">\n",
       "      <th></th>\n",
       "      <th>checkout_mean</th>\n",
       "      <th>non_checkout_mean</th>\n",
       "    </tr>\n",
       "  </thead>\n",
       "  <tbody>\n",
       "    <tr>\n",
       "      <th>time_spent</th>\n",
       "      <td>31.318157</td>\n",
       "      <td>22.858777</td>\n",
       "    </tr>\n",
       "    <tr>\n",
       "      <th>pages_visited</th>\n",
       "      <td>7.289790</td>\n",
       "      <td>5.208251</td>\n",
       "    </tr>\n",
       "    <tr>\n",
       "      <th>cart_items</th>\n",
       "      <td>14.096847</td>\n",
       "      <td>15.300367</td>\n",
       "    </tr>\n",
       "    <tr>\n",
       "      <th>cart_value</th>\n",
       "      <td>140.510871</td>\n",
       "      <td>152.827485</td>\n",
       "    </tr>\n",
       "  </tbody>\n",
       "</table>\n",
       "</div>"
      ],
      "text/plain": [
       "               checkout_mean  non_checkout_mean\n",
       "time_spent         31.318157          22.858777\n",
       "pages_visited       7.289790           5.208251\n",
       "cart_items         14.096847          15.300367\n",
       "cart_value        140.510871         152.827485"
      ]
     },
     "execution_count": 221,
     "metadata": {},
     "output_type": "execute_result"
    }
   ],
   "source": [
    "comparison"
   ]
  },
  {
   "cell_type": "code",
   "execution_count": null,
   "metadata": {},
   "outputs": [
    {
     "data": {
      "text/plain": [
       "<Axes: >"
      ]
     },
     "execution_count": 227,
     "metadata": {},
     "output_type": "execute_result"
    },
    {
     "data": {
      "image/png": "[encoded data removed]",
      "text/plain": [
       "<Figure size 640x480 with 1 Axes>"
      ]
     },
     "metadata": {},
     "output_type": "display_data"
    }
   ],
   "source": [
    "comparison.plot(kind='bar')\n"
   ]
  },
  {
   "cell_type": "code",
   "execution_count": null,
   "metadata": {},
   "outputs": [],
   "source": [
    "checkout_group_by_device = df[df['checkout_status'] == 1]['device']\n",
    "non_checkout_group_by_device = df[df['checkout_status'] == 0]['device']\n",
    "\n",
    "comparison = pd.concat([checkout_group_by_device.value_counts(), non_checkout_group_by_device.value_counts()], axis=1)\n",
    "comparison.columns = ['checkout_count', 'non_checkout_count']\n",
    "comparison['device'] = comparison.index\n",
    "\n",
    "\n"
   ]
  },
  {
   "cell_type": "code",
   "execution_count": null,
   "metadata": {},
   "outputs": [
    {
     "data": {
      "text/html": [
       "<div>\n",
       "<style scoped>\n",
       "    .dataframe tbody tr th:only-of-type {\n",
       "        vertical-align: middle;\n",
       "    }\n",
       "\n",
       "    .dataframe tbody tr th {\n",
       "        vertical-align: top;\n",
       "    }\n",
       "\n",
       "    .dataframe thead th {\n",
       "        text-align: right;\n",
       "    }\n",
       "</style>\n",
       "<table border=\"1\" class=\"dataframe\">\n",
       "  <thead>\n",
       "    <tr style=\"text-align: right;\">\n",
       "      <th></th>\n",
       "      <th>checkout_count</th>\n",
       "      <th>non_checkout_count</th>\n",
       "      <th>device</th>\n",
       "    </tr>\n",
       "    <tr>\n",
       "      <th>device</th>\n",
       "      <th></th>\n",
       "      <th></th>\n",
       "      <th></th>\n",
       "    </tr>\n",
       "  </thead>\n",
       "  <tbody>\n",
       "    <tr>\n",
       "      <th>Desktop</th>\n",
       "      <td>720</td>\n",
       "      <td>1802</td>\n",
       "      <td>Desktop</td>\n",
       "    </tr>\n",
       "    <tr>\n",
       "      <th>Mobile</th>\n",
       "      <td>374</td>\n",
       "      <td>1043</td>\n",
       "      <td>Mobile</td>\n",
       "    </tr>\n",
       "    <tr>\n",
       "      <th>Tablet</th>\n",
       "      <td>238</td>\n",
       "      <td>694</td>\n",
       "      <td>Tablet</td>\n",
       "    </tr>\n",
       "  </tbody>\n",
       "</table>\n",
       "</div>"
      ],
      "text/plain": [
       "         checkout_count  non_checkout_count   device\n",
       "device                                              \n",
       "Desktop             720                1802  Desktop\n",
       "Mobile              374                1043   Mobile\n",
       "Tablet              238                 694   Tablet"
      ]
     },
     "execution_count": 235,
     "metadata": {},
     "output_type": "execute_result"
    }
   ],
   "source": [
    "comparison"
   ]
  },
  {
   "cell_type": "code",
   "execution_count": null,
   "metadata": {},
   "outputs": [
    {
     "data": {
      "text/plain": [
       "<Axes: xlabel='device'>"
      ]
     },
     "execution_count": 236,
     "metadata": {},
     "output_type": "execute_result"
    },
    {
     "data": {
      "image/png": "[encoded data removed]",
      "text/plain": [
       "<Figure size 640x480 with 1 Axes>"
      ]
     },
     "metadata": {},
     "output_type": "display_data"
    }
   ],
   "source": [
    "comparison.plot(kind='bar')"
   ]
  },
  {
   "attachments": {},
   "cell_type": "markdown",
   "metadata": {},
   "source": [
    "we are using Chi square test to test categorical variable and validate the bar-chart "
   ]
  },
  {
   "cell_type": "code",
   "execution_count": null,
   "metadata": {},
   "outputs": [
    {
     "ename": "ValueError",
     "evalue": "No data; `observed` has size 0.",
     "output_type": "error",
     "traceback": [
      "\u001b[1;31m---------------------------------------------------------------------------\u001b[0m",
      "\u001b[1;31mValueError\u001b[0m                                Traceback (most recent call last)",
      "Cell \u001b[1;32mIn[247], line 9\u001b[0m\n\u001b[0;32m      6\u001b[0m non_checkout_group_by_device \u001b[39m=\u001b[39m df[df[\u001b[39m'\u001b[39m\u001b[39mcheckout_status\u001b[39m\u001b[39m'\u001b[39m] \u001b[39m==\u001b[39m \u001b[39m0\u001b[39m][\u001b[39m'\u001b[39m\u001b[39mdevice\u001b[39m\u001b[39m'\u001b[39m]\n\u001b[0;32m      8\u001b[0m contingency_table \u001b[39m=\u001b[39m pd\u001b[39m.\u001b[39mcrosstab(checkout_group_by_device, non_checkout_group_by_device)\n\u001b[1;32m----> 9\u001b[0m chi2, p_val, dof, expected \u001b[39m=\u001b[39m stats\u001b[39m.\u001b[39;49mchi2_contingency(contingency_table)\n\u001b[0;32m     11\u001b[0m \u001b[39mprint\u001b[39m(\u001b[39m\"\u001b[39m\u001b[39mChi-square statistic:\u001b[39m\u001b[39m\"\u001b[39m, chi2)\n\u001b[0;32m     12\u001b[0m \u001b[39mprint\u001b[39m(\u001b[39m\"\u001b[39m\u001b[39mP-value:\u001b[39m\u001b[39m\"\u001b[39m, p_val)\n",
      "File \u001b[1;32m~\\AppData\\Local\\Packages\\PythonSoftwareFoundation.Python.3.11_qbz5n2kfra8p0\\LocalCache\\local-packages\\Python311\\site-packages\\scipy\\stats\\contingency.py:285\u001b[0m, in \u001b[0;36mchi2_contingency\u001b[1;34m(observed, correction, lambda_)\u001b[0m\n\u001b[0;32m    283\u001b[0m     \u001b[39mraise\u001b[39;00m \u001b[39mValueError\u001b[39;00m(\u001b[39m\"\u001b[39m\u001b[39mAll values in `observed` must be nonnegative.\u001b[39m\u001b[39m\"\u001b[39m)\n\u001b[0;32m    284\u001b[0m \u001b[39mif\u001b[39;00m observed\u001b[39m.\u001b[39msize \u001b[39m==\u001b[39m \u001b[39m0\u001b[39m:\n\u001b[1;32m--> 285\u001b[0m     \u001b[39mraise\u001b[39;00m \u001b[39mValueError\u001b[39;00m(\u001b[39m\"\u001b[39m\u001b[39mNo data; `observed` has size 0.\u001b[39m\u001b[39m\"\u001b[39m)\n\u001b[0;32m    287\u001b[0m expected \u001b[39m=\u001b[39m expected_freq(observed)\n\u001b[0;32m    288\u001b[0m \u001b[39mif\u001b[39;00m np\u001b[39m.\u001b[39many(expected \u001b[39m==\u001b[39m \u001b[39m0\u001b[39m):\n\u001b[0;32m    289\u001b[0m     \u001b[39m# Include one of the positions where expected is zero in\u001b[39;00m\n\u001b[0;32m    290\u001b[0m     \u001b[39m# the exception message.\u001b[39;00m\n",
      "\u001b[1;31mValueError\u001b[0m: No data; `observed` has size 0."
     ]
    }
   ],
   "source": [
    "from scipy import stats\n",
    "from scipy.stats import chi2_contingency\n",
    "\n",
    "\n",
    "checkout_group_by_device = df[df['checkout_status'] == 1]['device']\n",
    "non_checkout_group_by_device = df[df['checkout_status'] == 0]['device']\n",
    "\n",
    "contingency_table = pd.crosstab(checkout_group_by_device, non_checkout_group_by_device)\n",
    "chi2, p_val, dof, expected = stats.chi2_contingency(contingency_table)\n",
    "\n",
    "print(\"Chi-square statistic:\", chi2)\n",
    "print(\"P-value:\", p_val)\n",
    "\n",
    "\n",
    "checkout_group_by_device = df[df['checkout_status'] == 1]['device']\n",
    "non_checkout_group_by_device = df[df['checkout_status'] == 0]['device']\n",
    "\n",
    "contingency_table = pd.crosstab(checkout_group_by_device, non_checkout_group_by_device)\n",
    "chi2, p_val, dof, expected = stats.chi2_contingency(contingency_table)\n",
    "\n",
    "print(\"Chi-square statistic:\", chi2)\n",
    "print(\"P-value:\", p_val)\n"
   ]
  },
  {
   "attachments": {},
   "cell_type": "markdown",
   "metadata": {},
   "source": [
    "\n",
    "Data Cleaning:\n",
    "\n",
    "We dropped the missing values (totally 130) , since it is comparable small numbers. \n",
    "\n",
    "we converted the data type of \"checkout_status' as str\n",
    "\n",
    "we checked the descriptoins of data, seems all good. \n",
    "\n",
    "we checked each variables' distribution using seaborn\n",
    "\n",
    "\n",
    "\n",
    "Statistic Analhyis\n",
    "\n",
    "\n",
    " Step1 : we conducted T-statistic test on  each numericcal variable's relatinship with \" checkout_status\" to see if there is significant difference of them. \n",
    "\n",
    "    we conducted Chi-square-statistic test on   Categorial variable's relatinship with \" checkout_status\" to see if there is significant difference of them.  due to time limitation, I did not get time to test the 'location' variable yet, but it will be the same method . \n",
    "    \n",
    "    For the categorical variable:\n",
    "\n",
    "we used Chi-square test to validate the significance, for some reason, the result did not run out. but we can see from the newly created dataframe by device and the bar-chart , we can conclude:\n",
    "\n",
    "the majority of the user are using desktop, however, this variable does not have significant difference between two groups. \n",
    "\n",
    "Conclusion\n",
    "\n",
    "With P-value less then 0.05, we found  numerical variables\" time_spent\", ' page_visited, \"cart_items', 'cart_value\"  does have significant impact to the checkout status. \n",
    "\n",
    "Stepe2: then we analyized the difference of the each variables between two groups. through the bar-chart, we can tell:\n",
    "\n",
    "Users' behaviour characteristics between two groups\n",
    "\n",
    "\n",
    "For the checkout user group, they spent more time , visited more pages, however, they have less items in cart and the value in carts are less than non_check out group\n",
    "\n",
    "On the other hand, the non_checkout user group, they spent less time, visited less pages, but they have more items in cart and the value in cart are higher. \n",
    "\n",
    "\n",
    "\n",
    "Recomendation:\n",
    "\n",
    "experimentation can be focus on stategis to attract user's time spending on our webpage, attract them clicking more pages. avoid promoting unfordable or expensive items to users.  focus on less expensive products to promote. \n",
    "\n",
    "\n",
    "\n"
   ]
  },
  {
   "cell_type": "code",
   "execution_count": null,
   "metadata": {},
   "outputs": [],
   "source": []
  }
 ],
 "metadata": {
  "kernelspec": {
   "display_name": "Python 3",
   "language": "python",
   "name": "python3"
  },
  "language_info": {
   "codemirror_mode": {
    "name": "ipython",
    "version": 3
   },
   "file_extension": ".py",
   "mimetype": "text/x-python",
   "name": "python",
   "nbconvert_exporter": "python",
   "pygments_lexer": "ipython3",
   "version": "3.11.4"
  },
  "orig_nbformat": 4
 },
 "nbformat": 4,
 "nbformat_minor": 2
}
