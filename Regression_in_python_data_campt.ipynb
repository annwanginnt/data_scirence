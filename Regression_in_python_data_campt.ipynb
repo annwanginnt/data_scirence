{
 "cells": [
  {
   "attachments": {},
   "cell_type": "markdown",
   "metadata": {},
   "source": [
    "Linear Regression"
   ]
  },
  {
   "cell_type": "code",
   "execution_count": null,
   "metadata": {},
   "outputs": [],
   "source": [
    "from statsmodels.formula.api import ols \n",
    "coeffs = model.params   # get the coefficients \n",
    "intercept = model.params[0] # get the intercept\n",
    "slope = model.params[1] # get the sloep\n",
    "model.summary() # get OLS report\n",
    "\n",
    "#create explanatory_data\n",
    "explanatory_data=pd.DataFrame({'n_convenience': np.arrange(0,11)})\n",
    "#use model to predict with explanatory_data\n",
    "price = model.predict(explanatory_data)\n",
    "# fitted value, prediciton on the original dataset\n",
    "model.fittedvalues\n",
    "\n",
    "# create 'prediction_data' column\n",
    "prediction_data = explanatory_data.assign(price = model.predict(explanatory_data))\n",
    "\n",
    "# visualize\n",
    "fig = plt.figure()\n",
    "sns.regplot(x='a', y='b', data=df, ci=None)\n",
    "sns.scatterplot(x='a', y='b', data=predication_data, color='red', marker='s')\n",
    "plt.show() \n",
    "\n",
    "plt.axline(xy1=(150,150), slope=1, linewidth =2, color='green') # father-son data\n",
    "\n"
   ]
  }
 ],
 "metadata": {
  "kernelspec": {
   "display_name": "Python 3",
   "language": "python",
   "name": "python3"
  },
  "language_info": {
   "name": "python",
   "version": "3.11.4"
  },
  "orig_nbformat": 4
 },
 "nbformat": 4,
 "nbformat_minor": 2
}
